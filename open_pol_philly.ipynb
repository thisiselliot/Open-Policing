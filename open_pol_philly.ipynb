{
 "cells": [
  {
   "cell_type": "code",
   "execution_count": null,
   "metadata": {
    "ExecuteTime": {
     "end_time": "2021-04-25T04:43:21.272361Z",
     "start_time": "2021-04-25T04:43:19.086521Z"
    }
   },
   "outputs": [],
   "source": [
    "# api\n",
    "import json\n",
    "import requests\n",
    "\n",
    "# sunrise and sunset\n",
    "import datetime as dt\n",
    "from astral.sun import sun\n",
    "from astral import LocationInfo\n",
    "\n",
    "# long and lat\n",
    "from geopy.geocoders import Nominatim\n",
    "\n",
    "# utils\n",
    "import numpy as np\n",
    "import pandas as pd\n",
    "import seaborn as sns\n",
    "import matplotlib.pyplot as plt\n",
    "\n",
    "# prefs\n",
    "plt.style.use('fivethirtyeight')\n",
    "pd.set_option('display.max_colwidth', -1)\n",
    "pd.set_option('display.max_columns', None)"
   ]
  },
  {
   "cell_type": "code",
   "execution_count": null,
   "metadata": {
    "ExecuteTime": {
     "end_time": "2021-04-25T04:43:22.215250Z",
     "start_time": "2021-04-25T04:43:21.274858Z"
    }
   },
   "outputs": [],
   "source": [
    "# api\n",
    "api_get = 'C03002_003E,C03002_004E,C03002_005E,C03002_006E,C03002_007E,C03002_008E,C03002_009E,C03002_012E'\n",
    "api_for = 'county:*'\n",
    "with open('.census_api_key') as f:\n",
    "    api_key = json.load(f)['api_key']\n",
    "    \n",
    "# construct the api call we will use\n",
    "api_url = f'https://api.census.gov/data/2017/acs/acs1?get={api_get}&for={api_for}&key={api_key}'\n",
    "\n",
    "# call the api and collect the response\n",
    "response = requests.get(api_url)\n",
    "\n",
    "cols = ['White',\n",
    "        'Black',\n",
    "        'Indigenous',\n",
    "        'Asian',\n",
    "        'Pacific_Islander',\n",
    "        'Other',\n",
    "        'Mixed',\n",
    "        'Hispanic',\n",
    "        'State',\n",
    "        'County']\n",
    "\n",
    "# philidelphia city and county are coextensive\n",
    "census = pd.DataFrame(json.loads(response.text)[1:], columns=cols)\n",
    "philly = census[(census.State=='42')&(census.County=='101')].astype('int').reset_index(drop=True)\n",
    "\n",
    "# merge cols\n",
    "philly.Other += philly.Indigenous + philly.Mixed\n",
    "philly.Asian += philly.Pacific_Islander\n",
    "philly = philly.drop(columns=['Indigenous', 'Pacific_Islander', 'Mixed', 'State', 'County'])\n",
    "philly_normed = round(philly/philly.iloc[0].sum(), 3)\n",
    "\n",
    "# display pop. by race\n",
    "print(f\"{philly.columns[0]}\\t{philly.columns[1]}\\t{philly.columns[2]}\\t{philly.columns[3]}\\t{philly.columns[4]}\")\n",
    "print(f\"{philly.values[0][0]}\\t{philly.values[0][1]}\\t{philly.values[0][2]}\\t{philly.values[0][3]}\\t{philly.values[0][4]}\")\n",
    "print(f\"{philly_normed.values[0][0]}\\t{philly_normed.values[0][1]}\\t{philly_normed.values[0][2]}\\t{philly_normed.values[0][3]}\\t{philly_normed.values[0][4]}\")\n",
    "# print(pd.concat([philly, philly_normed]).reset_index().T.rename(columns={0:'Total Pop.', 1:'Percentage'}).T.drop(columns=['index'])) #<-- alt. way to display pop. table"
   ]
  },
  {
   "cell_type": "code",
   "execution_count": null,
   "metadata": {
    "ExecuteTime": {
     "end_time": "2021-04-25T05:43:07.223057Z",
     "start_time": "2021-04-25T05:43:06.637094Z"
    }
   },
   "outputs": [],
   "source": [
    "# philadelphia lat and long centroid\n",
    "address='Philadelphia'\n",
    "with open('.geopy_user_agent') as f:\n",
    "    geopy_user_agent = json.load(f)['geopy_user_agent']\n",
    "\n",
    "geolocator = Nominatim(user_agent=geopy_user_agent)\n",
    "location = geolocator.geocode(address)\n",
    "print((location.latitude, location.longitude))"
   ]
  },
  {
   "cell_type": "code",
   "execution_count": null,
   "metadata": {
    "ExecuteTime": {
     "end_time": "2021-04-25T04:43:28.880267Z",
     "start_time": "2021-04-25T04:43:22.517542Z"
    }
   },
   "outputs": [],
   "source": [
    "# read in police stops dataset\n",
    "stops = pd.read_csv('data/pa_philadelphia_2020_04_01.csv')\n",
    "\n",
    "display(stops.head(3))\n",
    "stops.info()"
   ]
  },
  {
   "cell_type": "code",
   "execution_count": null,
   "metadata": {
    "ExecuteTime": {
     "end_time": "2021-04-25T04:43:30.348807Z",
     "start_time": "2021-04-25T04:43:28.882308Z"
    }
   },
   "outputs": [],
   "source": [
    "# merge other and unknown subject race\n",
    "stops.subject_race = np.where((stops.subject_race == 'other') | (stops.subject_race == 'unknown'),\n",
    "                              'other/unknown',\n",
    "                              stops.subject_race)\n",
    "\n",
    "# rename columns to match census format\n",
    "conds = [stops.subject_race == 'white',\n",
    "         stops.subject_race == 'black',\n",
    "         stops.subject_race == 'asian/pacific islander',\n",
    "         stops.subject_race == 'hispanic',\n",
    "         stops.subject_race == 'other/unknown']\n",
    "\n",
    "stops.subject_race = np.select(conds, ['White',\n",
    "                                       'Black',\n",
    "                                       'Asian',\n",
    "                                       'Hispanic',\n",
    "                                       'Other'])"
   ]
  },
  {
   "cell_type": "code",
   "execution_count": null,
   "metadata": {
    "ExecuteTime": {
     "end_time": "2021-04-25T04:43:38.609347Z",
     "start_time": "2021-04-25T04:43:30.351047Z"
    },
    "scrolled": true
   },
   "outputs": [],
   "source": [
    "# convert 'date' to date_time obj\n",
    "stops.date = pd.to_datetime(stops.date)\n",
    "\n",
    "# display range of dates (start to end)\n",
    "print(min(stops.date).date())\n",
    "print(max(stops.date).date())\n",
    "# stops.date.agg(['min', 'max']) #<-- alt. way to display date range"
   ]
  },
  {
   "cell_type": "code",
   "execution_count": null,
   "metadata": {
    "ExecuteTime": {
     "end_time": "2021-04-25T04:43:43.148933Z",
     "start_time": "2021-04-25T04:43:38.613579Z"
    }
   },
   "outputs": [],
   "source": [
    "# drop 2018 (partial year)\n",
    "stops = stops[stops.date < '2018-01-01']\n",
    "\n",
    "# display new end date and new number of stops\n",
    "print(max(stops.date).date())\n",
    "display(len(stops))"
   ]
  },
  {
   "cell_type": "code",
   "execution_count": null,
   "metadata": {
    "ExecuteTime": {
     "end_time": "2021-04-25T04:43:43.347621Z",
     "start_time": "2021-04-25T04:43:43.156535Z"
    }
   },
   "outputs": [],
   "source": [
    "# display types of stops\n",
    "print(stops.type.value_counts())"
   ]
  },
  {
   "cell_type": "code",
   "execution_count": null,
   "metadata": {
    "ExecuteTime": {
     "end_time": "2021-04-25T04:43:44.120064Z",
     "start_time": "2021-04-25T04:43:43.352133Z"
    }
   },
   "outputs": [],
   "source": [
    "# drop pedestrian stops\n",
    "stops = stops[stops.type == 'vehicular']\n",
    "\n",
    "# check types of stops and display new number of stops\n",
    "print(stops.type.value_counts())\n",
    "display(len(stops))"
   ]
  },
  {
   "cell_type": "code",
   "execution_count": null,
   "metadata": {
    "ExecuteTime": {
     "end_time": "2021-04-25T04:43:53.805483Z",
     "start_time": "2021-04-25T04:43:44.129065Z"
    }
   },
   "outputs": [],
   "source": [
    "# display stops by year\n",
    "display(\"Stops/Year\",\n",
    "        \"n\",\n",
    "        stops.date.map(lambda x: x.year).value_counts(),\n",
    "        \"prop\",\n",
    "        stops.date.map(lambda x: x.year).value_counts(normalize=True))\n",
    "\n",
    "# display stops by race\n",
    "display(\"Stops/Race\",\n",
    "        \"n\",\n",
    "        stops.subject_race.value_counts(),\n",
    "        \"prop\",\n",
    "        stops.subject_race.value_counts(normalize=True))"
   ]
  },
  {
   "cell_type": "markdown",
   "metadata": {},
   "source": [
    "How to explain racial disparity?"
   ]
  },
  {
   "cell_type": "code",
   "execution_count": null,
   "metadata": {
    "ExecuteTime": {
     "end_time": "2021-04-25T04:43:58.560633Z",
     "start_time": "2021-04-25T04:43:53.808593Z"
    }
   },
   "outputs": [],
   "source": [
    "# check stops per year per race\n",
    "stops.groupby([stops.date.map(lambda x: x.year), stops.subject_race]).size()"
   ]
  },
  {
   "cell_type": "markdown",
   "metadata": {},
   "source": [
    "This table has too many entries to digest quickly. Visualizing the stops per year per race will be more effective."
   ]
  },
  {
   "cell_type": "code",
   "execution_count": null,
   "metadata": {
    "ExecuteTime": {
     "end_time": "2021-04-25T04:44:03.574275Z",
     "start_time": "2021-04-25T04:43:58.563249Z"
    }
   },
   "outputs": [],
   "source": [
    "# visualize trend\n",
    "fig = plt.figure(figsize=(7,7))\n",
    "ax = plt.axes()\n",
    "sns.lineplot(data=stops.groupby([stops.date.map(lambda x: x.year),\n",
    "                                 stops.subject_race]).size().unstack(level=1),\n",
    "             dashes=False,\n",
    "             markers=[\"o\"]*5,\n",
    "             linewidth=1.5)\n",
    "# plt.setp(ax.lines, linewidth=2)\n",
    "ax.set_xticks([2014, 2015, 2016, 2017])\n",
    "ax.set_ylabel('n', )\n",
    "plt.legend(loc='center right', title='subject_race', bbox_to_anchor=(1.25, .75))\n",
    "plt.show()"
   ]
  },
  {
   "cell_type": "markdown",
   "metadata": {},
   "source": [
    "Black subject stops continue increasing past 2015 while other races plateau. Data should be analyzed annualy. This trend dissapears if pedestrian stops included\n",
    "\n",
    "...\n",
    "\n",
    "looking at trends by sub-categories can often be very helpful. (E.g., in Nashville, looking at the different listed stop reasons uncovers the extent of the disparities.)"
   ]
  },
  {
   "cell_type": "markdown",
   "metadata": {},
   "source": [
    "Examine year 2017 -- Benchmark tests: establish baseline (are blacks stopped more because they make up more of the population?)"
   ]
  },
  {
   "cell_type": "code",
   "execution_count": null,
   "metadata": {
    "ExecuteTime": {
     "end_time": "2021-04-25T04:44:08.268417Z",
     "start_time": "2021-04-25T04:44:03.576512Z"
    }
   },
   "outputs": [],
   "source": [
    "# get stops for year 2017 only\n",
    "stops_2017 = stops[stops.date.map(lambda x: x.year) == 2017]\n",
    "\n",
    "# get stops per race for year 2017 only\n",
    "race_2017 = pd.concat([stops_2017.groupby(stops.subject_race).size(),\n",
    "                philly.T], axis=1, sort=True)\n",
    "race_2017.columns = ['n', 'num_people']\n",
    "\n",
    "# get 2017 stop rate\n",
    "race_2017['stop_rate'] = race_2017.n / race_2017.num_people\n",
    "\n",
    "display(race_2017)"
   ]
  },
  {
   "cell_type": "code",
   "execution_count": null,
   "metadata": {
    "ExecuteTime": {
     "end_time": "2021-04-25T04:44:08.284145Z",
     "start_time": "2021-04-25T04:44:08.271492Z"
    }
   },
   "outputs": [],
   "source": [
    "# black and white stop rates\n",
    "display(race_2017.stop_rate['Black'] / race_2017.stop_rate['White'])\n",
    "\n",
    "# black and hispanic stop rates\n",
    "display(race_2017.stop_rate['Hispanic'] / race_2017.stop_rate['White'])"
   ]
  },
  {
   "cell_type": "code",
   "execution_count": null,
   "metadata": {
    "ExecuteTime": {
     "end_time": "2021-04-25T04:44:08.308012Z",
     "start_time": "2021-04-25T04:44:08.286752Z"
    }
   },
   "outputs": [],
   "source": [
    "# check frisk/search values\n",
    "display(stops_2017.search_conducted.value_counts())\n",
    "display(stops_2017.frisk_performed.value_counts())"
   ]
  },
  {
   "cell_type": "code",
   "execution_count": null,
   "metadata": {
    "ExecuteTime": {
     "end_time": "2021-04-25T04:44:08.426803Z",
     "start_time": "2021-04-25T04:44:08.311489Z"
    }
   },
   "outputs": [],
   "source": [
    "# get search and frisk rates per race\n",
    "search_frisk = pd.concat([stops_2017.groupby('subject_race').search_conducted.mean(),\n",
    "                          stops_2017.groupby('subject_race').frisk_performed.mean()], axis=1)\n",
    "search_frisk.columns = ['search_rate', 'frisk_rate']\n",
    "\n",
    "display(search_frisk)"
   ]
  },
  {
   "cell_type": "code",
   "execution_count": null,
   "metadata": {
    "ExecuteTime": {
     "end_time": "2021-04-25T04:44:08.462205Z",
     "start_time": "2021-04-25T04:44:08.434828Z"
    }
   },
   "outputs": [],
   "source": [
    "# black and white search rates\n",
    "display(search_frisk.search_rate['Black'] / search_frisk.search_rate['White'])\n",
    "\n",
    "# black and white frisk rates\n",
    "display(search_frisk.frisk_rate['Black'] / search_frisk.frisk_rate['White'])\n",
    "\n",
    "# hispanic and white stfriskop rates\n",
    "display(search_frisk.search_rate['Hispanic'] / search_frisk.search_rate['White'])\n",
    "\n",
    "# hispanic and white frisk rates\n",
    "display(search_frisk.frisk_rate['Hispanic'] / search_frisk.frisk_rate['White'])"
   ]
  },
  {
   "cell_type": "markdown",
   "metadata": {},
   "source": [
    "Problems with out benchmark test:\n",
    "\n",
    "1. Our census pop. data doesn't capture what the distribution of driving behavior looks like (Philly residents != Philly drivers)\n",
    "\n",
    "2. Rates of justifiable searches might also vary by race, so we need to check outcomes of searches (hit_rate)"
   ]
  },
  {
   "cell_type": "code",
   "execution_count": null,
   "metadata": {
    "ExecuteTime": {
     "end_time": "2021-04-25T04:44:08.510665Z",
     "start_time": "2021-04-25T04:44:08.467723Z"
    }
   },
   "outputs": [],
   "source": [
    "stops_2017.contraband_found.value_counts()"
   ]
  },
  {
   "cell_type": "code",
   "execution_count": null,
   "metadata": {
    "ExecuteTime": {
     "end_time": "2021-04-25T04:44:08.993448Z",
     "start_time": "2021-04-25T04:44:08.516215Z"
    }
   },
   "outputs": [],
   "source": [
    "stops.isna().sum()"
   ]
  },
  {
   "cell_type": "code",
   "execution_count": null,
   "metadata": {
    "ExecuteTime": {
     "end_time": "2021-04-25T04:44:09.074955Z",
     "start_time": "2021-04-25T04:44:08.999768Z"
    }
   },
   "outputs": [],
   "source": [
    "stops[stops.search_conducted==True].groupby(['subject_race', 'contraband_found']).size()"
   ]
  },
  {
   "cell_type": "code",
   "execution_count": null,
   "metadata": {
    "ExecuteTime": {
     "end_time": "2021-04-25T04:44:09.136916Z",
     "start_time": "2021-04-25T04:44:09.085346Z"
    }
   },
   "outputs": [],
   "source": [
    "searches_2017 = stops_2017[stops_2017.search_conducted==True]\n",
    "searches_2017.contraband_found = searches_2017.contraband_found.astype(bool)\n",
    "dff = pd.DataFrame(searches_2017.groupby('subject_race').contraband_found.mean()).rename(columns={'contraband_found':'hit_rate'})\n",
    "display(dff)"
   ]
  },
  {
   "cell_type": "markdown",
   "metadata": {},
   "source": [
    "Are officers searching non-white drivers based on less evidence? Do hit rates vary by precint?"
   ]
  },
  {
   "cell_type": "code",
   "execution_count": null,
   "metadata": {
    "ExecuteTime": {
     "end_time": "2021-04-25T04:44:09.210693Z",
     "start_time": "2021-04-25T04:44:09.144968Z"
    }
   },
   "outputs": [],
   "source": [
    "# examine hit rate by district\n",
    "pd.DataFrame(searches_2017.groupby([searches_2017.subject_race, searches_2017.district]).contraband_found.mean()).rename(columns={'contraband_found':'hit_rate'})"
   ]
  },
  {
   "cell_type": "code",
   "execution_count": null,
   "metadata": {
    "ExecuteTime": {
     "end_time": "2021-04-25T04:44:09.262281Z",
     "start_time": "2021-04-25T04:44:09.246326Z"
    }
   },
   "outputs": [],
   "source": [
    "pd.Index(list(range(1, 23))*2)"
   ]
  },
  {
   "cell_type": "code",
   "execution_count": null,
   "metadata": {
    "ExecuteTime": {
     "end_time": "2021-04-25T04:44:09.367568Z",
     "start_time": "2021-04-25T04:44:09.289338Z"
    }
   },
   "outputs": [],
   "source": [
    "ddff = pd.DataFrame(searches_2017.groupby([searches_2017.subject_race, searches_2017.district]).contraband_found.mean()).rename(columns={'contraband_found':'hit_rate'}).unstack().T.melt(id_vars='White')\n",
    "ddff = ddff[ddff.subject_race.isin(['Black', 'Hispanic'])]\n",
    "ddff.fillna(0)\n",
    "ddff = ddff.set_index(pd.Index(np.tile(stops.district.unique(), 2)))\n",
    "ddff = ddff.rename(columns={'White':'white_hit_rate', 'value':'minority_hit_rate'})\n",
    "ddff.sort_index()"
   ]
  },
  {
   "cell_type": "markdown",
   "metadata": {},
   "source": [
    "Exclude district 77 (airport, da offices, etc.)"
   ]
  },
  {
   "cell_type": "code",
   "execution_count": null,
   "metadata": {
    "ExecuteTime": {
     "end_time": "2021-04-25T04:44:10.104287Z",
     "start_time": "2021-04-25T04:44:09.374176Z"
    },
    "scrolled": true
   },
   "outputs": [],
   "source": [
    "fig, ax = plt.subplots(1,2,figsize=(12,6))\n",
    "sns.scatterplot(x='white_hit_rate',\n",
    "                y='minority_hit_rate',\n",
    "                size=stops_2017.groupby('district').size(),\n",
    "                data=ddff[ddff.subject_race=='Black'],\n",
    "                edgecolor='black',\n",
    "                color=\"white\",\n",
    "                sizes=(1, 400),                ax=ax[0]).set_title('Black')\n",
    "ax[0].plot([-0.05, .85], [-0.05, .85], linewidth=0.5, linestyle='-.', color='k')\n",
    "\n",
    "sns.scatterplot(x='white_hit_rate',\n",
    "                y='minority_hit_rate',\n",
    "                size=stops_2017.groupby('district').size(),\n",
    "                data=ddff[ddff.subject_race=='Hispanic'],\n",
    "                edgecolor='black',\n",
    "                color=\"white\",\n",
    "                sizes=(1, 400),\n",
    "                ax=ax[1]).set_title('Hispanic')\n",
    "ax[1].plot([-0.05, .85], [-0.05, .85], linewidth=0.5, linestyle='-.', color='k')\n",
    "plt.setp(ax, xlim=(-0.05, .85), ylim=(-0.05, .85))\n",
    "ax[0].get_legend().remove()\n",
    "ax[1].get_legend().remove()\n",
    "plt.show()"
   ]
  },
  {
   "cell_type": "code",
   "execution_count": null,
   "metadata": {
    "ExecuteTime": {
     "end_time": "2021-04-25T04:44:10.121992Z",
     "start_time": "2021-04-25T04:44:10.108049Z"
    }
   },
   "outputs": [],
   "source": [
    "stops_2017[stops_2017.district == 77].location.value_counts()"
   ]
  },
  {
   "cell_type": "code",
   "execution_count": null,
   "metadata": {
    "ExecuteTime": {
     "end_time": "2021-04-25T04:44:10.184232Z",
     "start_time": "2021-04-25T04:44:10.125322Z"
    }
   },
   "outputs": [],
   "source": [
    "# compute citywide hit rates again with district 77 removed\n",
    "searches_2017 = stops_2017[(stops_2017.search_conducted==True) & (stops_2017.district!=77)]\n",
    "searches_2017.contraband_found = searches_2017.contraband_found.astype(bool)\n",
    "dff = pd.DataFrame(searches_2017.groupby('subject_race').contraband_found.mean()).rename(columns={'contraband_found':'hit_rate'})\n",
    "display(dff)"
   ]
  },
  {
   "cell_type": "markdown",
   "metadata": {},
   "source": [
    "Veil of Darkness Test"
   ]
  },
  {
   "cell_type": "code",
   "execution_count": null,
   "metadata": {
    "ExecuteTime": {
     "end_time": "2021-04-25T04:46:42.060407Z",
     "start_time": "2021-04-25T04:44:10.189791Z"
    }
   },
   "outputs": [],
   "source": [
    "# set city location for sunrise and sunset\n",
    "city = LocationInfo(\"Philadelphia\",\n",
    "                    \"Pennsylvania\",\n",
    "                    \"Eastern Standard Time\", #<--- check which params are req'd\n",
    "                    location.latitude,\n",
    "                    location.longitude)\n",
    "\n",
    "# convert time to datetime.time obj\n",
    "stops_2017['time']    = stops_2017.time.apply(lambda x: pd.to_datetime(x).time())\n",
    "                     \n",
    "# add sunset and dusk\n",
    "stops_2017['Sunset']  = stops_2017.date.apply(lambda x: sun(city.observer, x, tzinfo='EST')[\"sunset\"].time())\n",
    "stops_2017['Dusk']    = stops_2017.date.apply(lambda x: sun(city.observer, x, tzinfo='EST')[\"dusk\"].time())\n",
    "\n",
    "# calculate whether or not stop is after dusk\n",
    "stops_2017['is_dark'] = stops_2017.time > stops_2017.Dusk\n",
    "\n",
    "# drop stops is subject is neither black nor white\n",
    "stops_2017 = stops_2017.loc[(stops_2017.subject_race=='Black') | (stops_2017.subject_race=='White')]\n",
    "\n",
    "# drop stops if stop time is before/after annual sunset.min()/dusk.max()\n",
    "stops_2017 = stops_2017.loc[(stops_2017.time > stops_2017.Sunset.min()) & (stops_2017.time < stops_2017.Dusk.max())]\n",
    "\n",
    "# drop stops if stop is after sunset for that date but before dusk for that date\n",
    "stops_2017 = stops_2017.loc[(stops_2017.time < stops_2017.Sunset) | (stops_2017.time > stops_2017.Dusk)]"
   ]
  },
  {
   "cell_type": "code",
   "execution_count": null,
   "metadata": {
    "ExecuteTime": {
     "end_time": "2021-04-25T04:46:42.170403Z",
     "start_time": "2021-04-25T04:46:42.079738Z"
    }
   },
   "outputs": [],
   "source": [
    "aaa = stops_2017.loc[(stops_2017.time >= pd.to_datetime('17:30:00').time()) & (stops_2017.time < pd.to_datetime('18:00:00').time())]\n",
    "bbb = stops_2017.loc[(stops_2017.time >= pd.to_datetime('18:00:00').time()) & (stops_2017.time < pd.to_datetime('18:30:00').time())]\n",
    "ccc = stops_2017.loc[(stops_2017.time >= pd.to_datetime('18:30:00').time()) & (stops_2017.time < pd.to_datetime('19:00:00').time())]\n",
    "ddd = stops_2017.loc[(stops_2017.time >= pd.to_datetime('19:00:00').time()) & (stops_2017.time < pd.to_datetime('19:30:00').time())]\n",
    "eee = stops_2017.loc[(stops_2017.time >= pd.to_datetime('19:30:00').time()) & (stops_2017.time < pd.to_datetime('20:00:00').time())]\n",
    "fff = stops_2017.loc[(stops_2017.time >= pd.to_datetime('20:00:00').time()) & (stops_2017.time < pd.to_datetime('20:30:00').time())]"
   ]
  },
  {
   "cell_type": "code",
   "execution_count": null,
   "metadata": {
    "ExecuteTime": {
     "end_time": "2021-04-25T04:46:42.201156Z",
     "start_time": "2021-04-25T04:46:42.172907Z"
    }
   },
   "outputs": [],
   "source": [
    "aaa['is_black'] = aaa.subject_race=='Black'\n",
    "bbb['is_black'] = bbb.subject_race=='Black'\n",
    "ccc['is_black'] = ccc.subject_race=='Black'\n",
    "ddd['is_black'] = ddd.subject_race=='Black'\n",
    "eee['is_black'] = eee.subject_race=='Black'\n",
    "fff['is_black'] = fff.subject_race=='Black'"
   ]
  },
  {
   "cell_type": "code",
   "execution_count": null,
   "metadata": {
    "ExecuteTime": {
     "end_time": "2021-04-25T04:46:42.238830Z",
     "start_time": "2021-04-25T04:46:42.209743Z"
    }
   },
   "outputs": [],
   "source": [
    "print(\n",
    "    aaa.groupby('is_dark').is_black.mean(),\n",
    "    bbb.groupby('is_dark').is_black.mean(),\n",
    "    ccc.groupby('is_dark').is_black.mean(),\n",
    "    ddd.groupby('is_dark').is_black.mean(),\n",
    "    eee.groupby('is_dark').is_black.mean()\n",
    ")"
   ]
  }
 ],
 "metadata": {
  "kernelspec": {
   "display_name": "Python 3",
   "language": "python",
   "name": "python3"
  },
  "language_info": {
   "codemirror_mode": {
    "name": "ipython",
    "version": 3
   },
   "file_extension": ".py",
   "mimetype": "text/x-python",
   "name": "python",
   "nbconvert_exporter": "python",
   "pygments_lexer": "ipython3",
   "version": "3.6.9"
  },
  "toc": {
   "base_numbering": 1,
   "nav_menu": {},
   "number_sections": true,
   "sideBar": true,
   "skip_h1_title": false,
   "title_cell": "Table of Contents",
   "title_sidebar": "Contents",
   "toc_cell": false,
   "toc_position": {},
   "toc_section_display": true,
   "toc_window_display": false
  },
  "varInspector": {
   "cols": {
    "lenName": 16,
    "lenType": 16,
    "lenVar": 40
   },
   "kernels_config": {
    "python": {
     "delete_cmd_postfix": "",
     "delete_cmd_prefix": "del ",
     "library": "var_list.py",
     "varRefreshCmd": "print(var_dic_list())"
    },
    "r": {
     "delete_cmd_postfix": ") ",
     "delete_cmd_prefix": "rm(",
     "library": "var_list.r",
     "varRefreshCmd": "cat(var_dic_list()) "
    }
   },
   "types_to_exclude": [
    "module",
    "function",
    "builtin_function_or_method",
    "instance",
    "_Feature"
   ],
   "window_display": false
  }
 },
 "nbformat": 4,
 "nbformat_minor": 4
}
