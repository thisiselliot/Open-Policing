{
 "cells": [
  {
   "cell_type": "code",
   "execution_count": 1,
   "metadata": {
    "ExecuteTime": {
     "end_time": "2021-03-15T21:27:54.913725Z",
     "start_time": "2021-03-15T21:27:52.973824Z"
    }
   },
   "outputs": [],
   "source": [
    "# api\n",
    "import json\n",
    "import requests\n",
    "\n",
    "# sunrise and sunset\n",
    "import datetime\n",
    "from astral.sun import sun\n",
    "from astral import LocationInfo\n",
    "\n",
    "# long and lat\n",
    "from geopy.geocoders import Nominatim\n",
    "\n",
    "# utils\n",
    "import numpy as np\n",
    "import pandas as pd\n",
    "import seaborn as sns\n",
    "import matplotlib.pyplot as plt\n",
    "\n",
    "# prefs\n",
    "plt.style.use('fivethirtyeight')\n",
    "pd.set_option('display.max_colwidth', -1)\n",
    "pd.set_option('display.max_columns', None)"
   ]
  },
  {
   "cell_type": "code",
   "execution_count": 2,
   "metadata": {
    "ExecuteTime": {
     "end_time": "2021-03-15T21:27:56.089107Z",
     "start_time": "2021-03-15T21:27:54.916090Z"
    }
   },
   "outputs": [
    {
     "name": "stdout",
     "output_type": "stream",
     "text": [
      "White\tBlack\tAsian\tOther\tHispanic\n",
      "545580\t647102\t115008\t38990\t234183\n",
      "0.345\t0.409\t0.073\t0.025\t0.148\n"
     ]
    }
   ],
   "source": [
    "# api\n",
    "api_get = 'C03002_003E,C03002_004E,C03002_005E,C03002_006E,C03002_007E,C03002_008E,C03002_009E,C03002_012E'\n",
    "api_for = 'county:*'\n",
    "api_key = '4663cae62a3c2ac1881d294a5cc286c501196ef0'\n",
    "\n",
    "# construct the api call we will use\n",
    "api_url = f'https://api.census.gov/data/2017/acs/acs1?get={api_get}&for={api_for}&key={api_key}'\n",
    "\n",
    "# call the api and collect the response\n",
    "response = requests.get(api_url)\n",
    "\n",
    "cols = ['White',\n",
    "        'Black',\n",
    "        'Indigenous',\n",
    "        'Asian',\n",
    "        'Pacific_Islander',\n",
    "        'Other',\n",
    "        'Mixed',\n",
    "        'Hispanic',\n",
    "        'State',\n",
    "        'County']\n",
    "\n",
    "# philidelphia city and county are coextensive\n",
    "census = pd.DataFrame(json.loads(response.text)[1:], columns=cols)\n",
    "philly = census[(census.State=='42')&(census.County=='101')].astype('int').reset_index(drop=True)\n",
    "\n",
    "# merge cols\n",
    "philly.Other += philly.Indigenous + philly.Mixed\n",
    "philly.Asian += philly.Pacific_Islander\n",
    "philly = philly.drop(columns=['Indigenous', 'Pacific_Islander', 'Mixed', 'State', 'County'])\n",
    "philly_normed = round(philly/philly.iloc[0].sum(), 3)\n",
    "\n",
    "# display pop. by race\n",
    "print(f\"{philly.columns[0]}\\t{philly.columns[1]}\\t{philly.columns[2]}\\t{philly.columns[3]}\\t{philly.columns[4]}\")\n",
    "print(f\"{philly.values[0][0]}\\t{philly.values[0][1]}\\t{philly.values[0][2]}\\t{philly.values[0][3]}\\t{philly.values[0][4]}\")\n",
    "print(f\"{philly_normed.values[0][0]}\\t{philly_normed.values[0][1]}\\t{philly_normed.values[0][2]}\\t{philly_normed.values[0][3]}\\t{philly_normed.values[0][4]}\")\n",
    "# print(pd.concat([philly, philly_normed]).reset_index().T.rename(columns={0:'Total Pop.', 1:'Percentage'}).T.drop(columns=['index'])) #<-- alt. way to display pop. table"
   ]
  },
  {
   "cell_type": "code",
   "execution_count": 3,
   "metadata": {
    "ExecuteTime": {
     "end_time": "2021-03-15T21:27:56.429625Z",
     "start_time": "2021-03-15T21:27:56.115670Z"
    }
   },
   "outputs": [
    {
     "name": "stdout",
     "output_type": "stream",
     "text": [
      "(39.9527237, -75.1635262)\n"
     ]
    }
   ],
   "source": [
    "# philadelphia lat and long centroid\n",
    "address='Philadelphia'\n",
    "geopy_user_agent = 'Elliot_'\n",
    "geolocator = Nominatim(user_agent=geopy_user_agent)\n",
    "location = geolocator.geocode(address)\n",
    "print((location.latitude, location.longitude))"
   ]
  },
  {
   "cell_type": "code",
   "execution_count": 4,
   "metadata": {
    "ExecuteTime": {
     "end_time": "2021-03-15T21:28:02.374001Z",
     "start_time": "2021-03-15T21:27:56.435973Z"
    }
   },
   "outputs": [
    {
     "name": "stderr",
     "output_type": "stream",
     "text": [
      "/Users/elliotmacy/opt/anaconda3/envs/learn-env/lib/python3.6/site-packages/IPython/core/interactiveshell.py:2714: DtypeWarning: Columns (7) have mixed types. Specify dtype option on import or set low_memory=False.\n",
      "  interactivity=interactivity, compiler=compiler, result=result)\n"
     ]
    },
    {
     "data": {
      "text/html": [
       "<div>\n",
       "<style scoped>\n",
       "    .dataframe tbody tr th:only-of-type {\n",
       "        vertical-align: middle;\n",
       "    }\n",
       "\n",
       "    .dataframe tbody tr th {\n",
       "        vertical-align: top;\n",
       "    }\n",
       "\n",
       "    .dataframe thead th {\n",
       "        text-align: right;\n",
       "    }\n",
       "</style>\n",
       "<table border=\"1\" class=\"dataframe\">\n",
       "  <thead>\n",
       "    <tr style=\"text-align: right;\">\n",
       "      <th></th>\n",
       "      <th>raw_row_number</th>\n",
       "      <th>date</th>\n",
       "      <th>time</th>\n",
       "      <th>location</th>\n",
       "      <th>lat</th>\n",
       "      <th>lng</th>\n",
       "      <th>district</th>\n",
       "      <th>service_area</th>\n",
       "      <th>subject_age</th>\n",
       "      <th>subject_race</th>\n",
       "      <th>subject_sex</th>\n",
       "      <th>type</th>\n",
       "      <th>arrest_made</th>\n",
       "      <th>outcome</th>\n",
       "      <th>contraband_found</th>\n",
       "      <th>frisk_performed</th>\n",
       "      <th>search_conducted</th>\n",
       "      <th>search_person</th>\n",
       "      <th>search_vehicle</th>\n",
       "      <th>raw_race</th>\n",
       "      <th>raw_individual_contraband</th>\n",
       "      <th>raw_vehicle_contraband</th>\n",
       "    </tr>\n",
       "  </thead>\n",
       "  <tbody>\n",
       "    <tr>\n",
       "      <th>0</th>\n",
       "      <td>411981</td>\n",
       "      <td>2014-01-01</td>\n",
       "      <td>01:14:00</td>\n",
       "      <td>NaN</td>\n",
       "      <td>NaN</td>\n",
       "      <td>NaN</td>\n",
       "      <td>19.0</td>\n",
       "      <td>191</td>\n",
       "      <td>31.0</td>\n",
       "      <td>black</td>\n",
       "      <td>male</td>\n",
       "      <td>pedestrian</td>\n",
       "      <td>True</td>\n",
       "      <td>arrest</td>\n",
       "      <td>True</td>\n",
       "      <td>False</td>\n",
       "      <td>True</td>\n",
       "      <td>True</td>\n",
       "      <td>False</td>\n",
       "      <td>Black - Non-Latino</td>\n",
       "      <td>True</td>\n",
       "      <td>False</td>\n",
       "    </tr>\n",
       "    <tr>\n",
       "      <th>1</th>\n",
       "      <td>407442</td>\n",
       "      <td>2014-01-01</td>\n",
       "      <td>01:57:00</td>\n",
       "      <td>NaN</td>\n",
       "      <td>NaN</td>\n",
       "      <td>NaN</td>\n",
       "      <td>12.0</td>\n",
       "      <td>121</td>\n",
       "      <td>21.0</td>\n",
       "      <td>black</td>\n",
       "      <td>male</td>\n",
       "      <td>pedestrian</td>\n",
       "      <td>True</td>\n",
       "      <td>arrest</td>\n",
       "      <td>False</td>\n",
       "      <td>True</td>\n",
       "      <td>True</td>\n",
       "      <td>True</td>\n",
       "      <td>False</td>\n",
       "      <td>Black - Non-Latino</td>\n",
       "      <td>False</td>\n",
       "      <td>False</td>\n",
       "    </tr>\n",
       "    <tr>\n",
       "      <th>2</th>\n",
       "      <td>217556</td>\n",
       "      <td>2014-01-01</td>\n",
       "      <td>03:30:00</td>\n",
       "      <td>3400 BLOCK SPRUCE ST</td>\n",
       "      <td>39.950424</td>\n",
       "      <td>-75.19268</td>\n",
       "      <td>18.0</td>\n",
       "      <td>183</td>\n",
       "      <td>24.0</td>\n",
       "      <td>black</td>\n",
       "      <td>male</td>\n",
       "      <td>pedestrian</td>\n",
       "      <td>False</td>\n",
       "      <td>NaN</td>\n",
       "      <td>NaN</td>\n",
       "      <td>False</td>\n",
       "      <td>False</td>\n",
       "      <td>False</td>\n",
       "      <td>False</td>\n",
       "      <td>Black - Non-Latino</td>\n",
       "      <td>False</td>\n",
       "      <td>False</td>\n",
       "    </tr>\n",
       "  </tbody>\n",
       "</table>\n",
       "</div>"
      ],
      "text/plain": [
       "  raw_row_number        date      time              location        lat  \\\n",
       "0  411981         2014-01-01  01:14:00  NaN                  NaN          \n",
       "1  407442         2014-01-01  01:57:00  NaN                  NaN          \n",
       "2  217556         2014-01-01  03:30:00  3400 BLOCK SPRUCE ST  39.950424   \n",
       "\n",
       "        lng  district service_area  subject_age subject_race subject_sex  \\\n",
       "0 NaN        19.0      191          31.0         black        male         \n",
       "1 NaN        12.0      121          21.0         black        male         \n",
       "2 -75.19268  18.0      183          24.0         black        male         \n",
       "\n",
       "         type  arrest_made outcome contraband_found  frisk_performed  \\\n",
       "0  pedestrian  True         arrest  True             False             \n",
       "1  pedestrian  True         arrest  False            True              \n",
       "2  pedestrian  False        NaN     NaN              False             \n",
       "\n",
       "   search_conducted  search_person  search_vehicle            raw_race  \\\n",
       "0  True              True           False           Black - Non-Latino   \n",
       "1  True              True           False           Black - Non-Latino   \n",
       "2  False             False          False           Black - Non-Latino   \n",
       "\n",
       "   raw_individual_contraband  raw_vehicle_contraband  \n",
       "0  True                       False                   \n",
       "1  False                      False                   \n",
       "2  False                      False                   "
      ]
     },
     "metadata": {},
     "output_type": "display_data"
    },
    {
     "name": "stdout",
     "output_type": "stream",
     "text": [
      "<class 'pandas.core.frame.DataFrame'>\n",
      "RangeIndex: 1865096 entries, 0 to 1865095\n",
      "Data columns (total 22 columns):\n",
      "raw_row_number               object\n",
      "date                         object\n",
      "time                         object\n",
      "location                     object\n",
      "lat                          float64\n",
      "lng                          float64\n",
      "district                     float64\n",
      "service_area                 object\n",
      "subject_age                  float64\n",
      "subject_race                 object\n",
      "subject_sex                  object\n",
      "type                         object\n",
      "arrest_made                  bool\n",
      "outcome                      object\n",
      "contraband_found             object\n",
      "frisk_performed              bool\n",
      "search_conducted             bool\n",
      "search_person                bool\n",
      "search_vehicle               bool\n",
      "raw_race                     object\n",
      "raw_individual_contraband    bool\n",
      "raw_vehicle_contraband       bool\n",
      "dtypes: bool(7), float64(4), object(11)\n",
      "memory usage: 225.9+ MB\n"
     ]
    }
   ],
   "source": [
    "# read in police stops dataset\n",
    "stops = pd.read_csv('data/pa_philadelphia_2020_04_01.csv')\n",
    "\n",
    "display(stops.head(3))\n",
    "stops.info()"
   ]
  },
  {
   "cell_type": "code",
   "execution_count": 5,
   "metadata": {
    "ExecuteTime": {
     "end_time": "2021-03-15T21:28:04.216806Z",
     "start_time": "2021-03-15T21:28:02.377034Z"
    }
   },
   "outputs": [],
   "source": [
    "# merge other and unknown subject race\n",
    "stops.subject_race = np.where((stops.subject_race == 'other') | (stops.subject_race == 'unknown'),\n",
    "                              'other/unknown',\n",
    "                              stops.subject_race)\n",
    "\n",
    "# rename columns to match census format\n",
    "conds = [stops.subject_race == 'white',\n",
    "         stops.subject_race == 'black',\n",
    "         stops.subject_race == 'asian/pacific islander',\n",
    "         stops.subject_race == 'hispanic',\n",
    "         stops.subject_race == 'other/unknown']\n",
    "\n",
    "stops.subject_race = np.select(conds, ['White',\n",
    "                                       'Black',\n",
    "                                       'Asian',\n",
    "                                       'Hispanic',\n",
    "                                       'Other'])"
   ]
  },
  {
   "cell_type": "code",
   "execution_count": 6,
   "metadata": {
    "ExecuteTime": {
     "end_time": "2021-03-15T21:28:13.134645Z",
     "start_time": "2021-03-15T21:28:04.230130Z"
    }
   },
   "outputs": [
    {
     "name": "stdout",
     "output_type": "stream",
     "text": [
      "2014-01-01\n",
      "2018-04-14\n"
     ]
    }
   ],
   "source": [
    "# convert 'date' to date_time obj\n",
    "stops.date = pd.to_datetime(stops.date)\n",
    "\n",
    "# display range of dates (start to end)\n",
    "print(min(stops.date).date())\n",
    "print(max(stops.date).date())\n",
    "# stops.date.agg(['min', 'max']) #<-- alt. way to display date range"
   ]
  },
  {
   "cell_type": "code",
   "execution_count": 7,
   "metadata": {
    "ExecuteTime": {
     "end_time": "2021-03-15T21:28:17.470564Z",
     "start_time": "2021-03-15T21:28:13.139160Z"
    }
   },
   "outputs": [
    {
     "name": "stdout",
     "output_type": "stream",
     "text": [
      "2017-12-31\n"
     ]
    },
    {
     "data": {
      "text/plain": [
       "1756587"
      ]
     },
     "metadata": {},
     "output_type": "display_data"
    }
   ],
   "source": [
    "# drop 2018 (partial year)\n",
    "stops = stops[stops.date < '2018-01-01']\n",
    "\n",
    "# display new end date and new number of stops\n",
    "print(max(stops.date).date())\n",
    "display(len(stops))"
   ]
  },
  {
   "cell_type": "code",
   "execution_count": 8,
   "metadata": {
    "ExecuteTime": {
     "end_time": "2021-03-15T21:28:17.700579Z",
     "start_time": "2021-03-15T21:28:17.477492Z"
    }
   },
   "outputs": [
    {
     "name": "stdout",
     "output_type": "stream",
     "text": [
      "vehicular     1080575\n",
      "pedestrian    676012 \n",
      "Name: type, dtype: int64\n"
     ]
    }
   ],
   "source": [
    "# display types of stops\n",
    "print(stops.type.value_counts())"
   ]
  },
  {
   "cell_type": "code",
   "execution_count": 9,
   "metadata": {
    "ExecuteTime": {
     "end_time": "2021-03-15T21:28:18.230381Z",
     "start_time": "2021-03-15T21:28:17.710995Z"
    }
   },
   "outputs": [
    {
     "name": "stdout",
     "output_type": "stream",
     "text": [
      "vehicular    1080575\n",
      "Name: type, dtype: int64\n"
     ]
    },
    {
     "data": {
      "text/plain": [
       "1080575"
      ]
     },
     "metadata": {},
     "output_type": "display_data"
    }
   ],
   "source": [
    "# drop pedestrian stops\n",
    "stops = stops[stops.type == 'vehicular']\n",
    "\n",
    "# check types of stops and display new number of stops\n",
    "print(stops.type.value_counts())\n",
    "display(len(stops))"
   ]
  },
  {
   "cell_type": "code",
   "execution_count": 10,
   "metadata": {
    "ExecuteTime": {
     "end_time": "2021-03-15T21:28:27.930892Z",
     "start_time": "2021-03-15T21:28:18.235148Z"
    }
   },
   "outputs": [
    {
     "data": {
      "text/plain": [
       "'Stops/Year'"
      ]
     },
     "metadata": {},
     "output_type": "display_data"
    },
    {
     "data": {
      "text/plain": [
       "'n'"
      ]
     },
     "metadata": {},
     "output_type": "display_data"
    },
    {
     "data": {
      "text/plain": [
       "2017    294060\n",
       "2016    285755\n",
       "2015    283537\n",
       "2014    217223\n",
       "Name: date, dtype: int64"
      ]
     },
     "metadata": {},
     "output_type": "display_data"
    },
    {
     "data": {
      "text/plain": [
       "'prop'"
      ]
     },
     "metadata": {},
     "output_type": "display_data"
    },
    {
     "data": {
      "text/plain": [
       "2017    0.272133\n",
       "2016    0.264447\n",
       "2015    0.262395\n",
       "2014    0.201025\n",
       "Name: date, dtype: float64"
      ]
     },
     "metadata": {},
     "output_type": "display_data"
    },
    {
     "data": {
      "text/plain": [
       "'Stops/Race'"
      ]
     },
     "metadata": {},
     "output_type": "display_data"
    },
    {
     "data": {
      "text/plain": [
       "'n'"
      ]
     },
     "metadata": {},
     "output_type": "display_data"
    },
    {
     "data": {
      "text/plain": [
       "Black       706853\n",
       "White       215314\n",
       "Hispanic    112315\n",
       "Asian       31048 \n",
       "Other       15045 \n",
       "Name: subject_race, dtype: int64"
      ]
     },
     "metadata": {},
     "output_type": "display_data"
    },
    {
     "data": {
      "text/plain": [
       "'prop'"
      ]
     },
     "metadata": {},
     "output_type": "display_data"
    },
    {
     "data": {
      "text/plain": [
       "Black       0.654145\n",
       "White       0.199259\n",
       "Hispanic    0.103940\n",
       "Asian       0.028733\n",
       "Other       0.013923\n",
       "Name: subject_race, dtype: float64"
      ]
     },
     "metadata": {},
     "output_type": "display_data"
    }
   ],
   "source": [
    "# display stops by year\n",
    "display(\"Stops/Year\",\n",
    "        \"n\",\n",
    "        stops.date.map(lambda x: x.year).value_counts(),\n",
    "        \"prop\",\n",
    "        stops.date.map(lambda x: x.year).value_counts(normalize=True))\n",
    "\n",
    "# display stops by race\n",
    "display(\"Stops/Race\",\n",
    "        \"n\",\n",
    "        stops.subject_race.value_counts(),\n",
    "        \"prop\",\n",
    "        stops.subject_race.value_counts(normalize=True))"
   ]
  },
  {
   "cell_type": "markdown",
   "metadata": {},
   "source": [
    "How to explain racial disparity?"
   ]
  },
  {
   "cell_type": "code",
   "execution_count": 11,
   "metadata": {
    "ExecuteTime": {
     "end_time": "2021-03-15T21:28:33.212004Z",
     "start_time": "2021-03-15T21:28:27.933971Z"
    }
   },
   "outputs": [
    {
     "data": {
      "text/plain": [
       "date  subject_race\n",
       "2014  Asian           7265  \n",
       "      Black           132871\n",
       "      Hispanic        22904 \n",
       "      Other           2620  \n",
       "      White           51563 \n",
       "2015  Asian           8580  \n",
       "      Black           181193\n",
       "      Hispanic        29935 \n",
       "      Other           3778  \n",
       "      White           60051 \n",
       "2016  Asian           7741  \n",
       "      Black           190973\n",
       "      Hispanic        29673 \n",
       "      Other           4137  \n",
       "      White           53231 \n",
       "2017  Asian           7462  \n",
       "      Black           201816\n",
       "      Hispanic        29803 \n",
       "      Other           4510  \n",
       "      White           50469 \n",
       "dtype: int64"
      ]
     },
     "execution_count": 11,
     "metadata": {},
     "output_type": "execute_result"
    }
   ],
   "source": [
    "# check stops per year per race\n",
    "stops.groupby([stops.date.map(lambda x: x.year), stops.subject_race]).size()"
   ]
  },
  {
   "cell_type": "markdown",
   "metadata": {},
   "source": [
    "This table has too many entries to digest quickly. Visualizing the stops per year per race will be more effective."
   ]
  },
  {
   "cell_type": "code",
   "execution_count": 12,
   "metadata": {
    "ExecuteTime": {
     "end_time": "2021-03-15T21:28:38.351042Z",
     "start_time": "2021-03-15T21:28:33.218911Z"
    }
   },
   "outputs": [
    {
     "data": {
      "image/png": "[encoded data removed]",
      "text/plain": [
       "<Figure size 504x504 with 1 Axes>"
      ]
     },
     "metadata": {
      "needs_background": "light"
     },
     "output_type": "display_data"
    }
   ],
   "source": [
    "# visualize trend\n",
    "fig = plt.figure(figsize=(7,7))\n",
    "ax = plt.axes()\n",
    "sns.lineplot(data=stops.groupby([stops.date.map(lambda x: x.year),\n",
    "                                 stops.subject_race]).size().unstack(level=1),\n",
    "             dashes=False,\n",
    "             markers=[\"o\"]*5,\n",
    "             linewidth=1.5)\n",
    "# plt.setp(ax.lines, linewidth=2)\n",
    "ax.set_xticks([2014, 2015, 2016, 2017])\n",
    "ax.set_ylabel('n', )\n",
    "plt.legend(loc='center right', title='subject_race', bbox_to_anchor=(1.25, .75))\n",
    "plt.show()"
   ]
  },
  {
   "cell_type": "markdown",
   "metadata": {},
   "source": [
    "Black subject stops continue increasing past 2015 while other races plateau. Data should be analyzed annualy. This trend dissapears if pedestrian stops included\n",
    "\n",
    "...\n",
    "\n",
    "looking at trends by sub-categories can often be very helpful. (E.g., in Nashville, looking at the different listed stop reasons uncovers the extent of the disparities.)"
   ]
  },
  {
   "cell_type": "markdown",
   "metadata": {},
   "source": [
    "Examine year 2017 -- Benchmark tests: establish baseline (are blacks stopped more because they make up more of the population?)"
   ]
  },
  {
   "cell_type": "code",
   "execution_count": 13,
   "metadata": {
    "ExecuteTime": {
     "end_time": "2021-03-15T21:28:43.178340Z",
     "start_time": "2021-03-15T21:28:38.359037Z"
    }
   },
   "outputs": [
    {
     "data": {
      "text/html": [
       "<div>\n",
       "<style scoped>\n",
       "    .dataframe tbody tr th:only-of-type {\n",
       "        vertical-align: middle;\n",
       "    }\n",
       "\n",
       "    .dataframe tbody tr th {\n",
       "        vertical-align: top;\n",
       "    }\n",
       "\n",
       "    .dataframe thead th {\n",
       "        text-align: right;\n",
       "    }\n",
       "</style>\n",
       "<table border=\"1\" class=\"dataframe\">\n",
       "  <thead>\n",
       "    <tr style=\"text-align: right;\">\n",
       "      <th></th>\n",
       "      <th>n</th>\n",
       "      <th>num_people</th>\n",
       "      <th>stop_rate</th>\n",
       "    </tr>\n",
       "  </thead>\n",
       "  <tbody>\n",
       "    <tr>\n",
       "      <th>Asian</th>\n",
       "      <td>7462</td>\n",
       "      <td>115008</td>\n",
       "      <td>0.064882</td>\n",
       "    </tr>\n",
       "    <tr>\n",
       "      <th>Black</th>\n",
       "      <td>201816</td>\n",
       "      <td>647102</td>\n",
       "      <td>0.311877</td>\n",
       "    </tr>\n",
       "    <tr>\n",
       "      <th>Hispanic</th>\n",
       "      <td>29803</td>\n",
       "      <td>234183</td>\n",
       "      <td>0.127264</td>\n",
       "    </tr>\n",
       "    <tr>\n",
       "      <th>Other</th>\n",
       "      <td>4510</td>\n",
       "      <td>38990</td>\n",
       "      <td>0.115671</td>\n",
       "    </tr>\n",
       "    <tr>\n",
       "      <th>White</th>\n",
       "      <td>50469</td>\n",
       "      <td>545580</td>\n",
       "      <td>0.092505</td>\n",
       "    </tr>\n",
       "  </tbody>\n",
       "</table>\n",
       "</div>"
      ],
      "text/plain": [
       "               n  num_people  stop_rate\n",
       "Asian     7462    115008      0.064882 \n",
       "Black     201816  647102      0.311877 \n",
       "Hispanic  29803   234183      0.127264 \n",
       "Other     4510    38990       0.115671 \n",
       "White     50469   545580      0.092505 "
      ]
     },
     "metadata": {},
     "output_type": "display_data"
    }
   ],
   "source": [
    "# get stops for year 2017 only\n",
    "stops_2017 = stops[stops.date.map(lambda x: x.year) == 2017]\n",
    "\n",
    "# get stops per race for year 2017 only\n",
    "race_2017 = pd.concat([stops_2017.groupby(stops.subject_race).size(),\n",
    "                philly.T], axis=1, sort=True)\n",
    "race_2017.columns = ['n', 'num_people']\n",
    "\n",
    "# get 2017 stop rate\n",
    "race_2017['stop_rate'] = race_2017.n / race_2017.num_people\n",
    "\n",
    "display(race_2017)"
   ]
  },
  {
   "cell_type": "code",
   "execution_count": 14,
   "metadata": {
    "ExecuteTime": {
     "end_time": "2021-03-15T21:28:43.193829Z",
     "start_time": "2021-03-15T21:28:43.181501Z"
    }
   },
   "outputs": [
    {
     "data": {
      "text/plain": [
       "3.371448995646344"
      ]
     },
     "metadata": {},
     "output_type": "display_data"
    },
    {
     "data": {
      "text/plain": [
       "1.3757463187611347"
      ]
     },
     "metadata": {},
     "output_type": "display_data"
    }
   ],
   "source": [
    "# black and white stop rates\n",
    "display(race_2017.stop_rate['Black'] / race_2017.stop_rate['White'])\n",
    "\n",
    "# black and hispanic stop rates\n",
    "display(race_2017.stop_rate['Hispanic'] / race_2017.stop_rate['White'])"
   ]
  },
  {
   "cell_type": "code",
   "execution_count": 15,
   "metadata": {
    "ExecuteTime": {
     "end_time": "2021-03-15T21:28:43.217286Z",
     "start_time": "2021-03-15T21:28:43.196747Z"
    }
   },
   "outputs": [
    {
     "data": {
      "text/plain": [
       "False    278193\n",
       "True     15867 \n",
       "Name: search_conducted, dtype: int64"
      ]
     },
     "metadata": {},
     "output_type": "display_data"
    },
    {
     "data": {
      "text/plain": [
       "False    278297\n",
       "True     15763 \n",
       "Name: frisk_performed, dtype: int64"
      ]
     },
     "metadata": {},
     "output_type": "display_data"
    }
   ],
   "source": [
    "# check frisk/search values\n",
    "display(stops_2017.search_conducted.value_counts())\n",
    "display(stops_2017.frisk_performed.value_counts())"
   ]
  },
  {
   "cell_type": "code",
   "execution_count": 16,
   "metadata": {
    "ExecuteTime": {
     "end_time": "2021-03-15T21:28:43.333780Z",
     "start_time": "2021-03-15T21:28:43.227892Z"
    }
   },
   "outputs": [
    {
     "data": {
      "text/html": [
       "<div>\n",
       "<style scoped>\n",
       "    .dataframe tbody tr th:only-of-type {\n",
       "        vertical-align: middle;\n",
       "    }\n",
       "\n",
       "    .dataframe tbody tr th {\n",
       "        vertical-align: top;\n",
       "    }\n",
       "\n",
       "    .dataframe thead th {\n",
       "        text-align: right;\n",
       "    }\n",
       "</style>\n",
       "<table border=\"1\" class=\"dataframe\">\n",
       "  <thead>\n",
       "    <tr style=\"text-align: right;\">\n",
       "      <th></th>\n",
       "      <th>search_rate</th>\n",
       "      <th>frisk_rate</th>\n",
       "    </tr>\n",
       "    <tr>\n",
       "      <th>subject_race</th>\n",
       "      <th></th>\n",
       "      <th></th>\n",
       "    </tr>\n",
       "  </thead>\n",
       "  <tbody>\n",
       "    <tr>\n",
       "      <th>Asian</th>\n",
       "      <td>0.026132</td>\n",
       "      <td>0.018494</td>\n",
       "    </tr>\n",
       "    <tr>\n",
       "      <th>Black</th>\n",
       "      <td>0.059207</td>\n",
       "      <td>0.062235</td>\n",
       "    </tr>\n",
       "    <tr>\n",
       "      <th>Hispanic</th>\n",
       "      <td>0.050532</td>\n",
       "      <td>0.046606</td>\n",
       "    </tr>\n",
       "    <tr>\n",
       "      <th>Other</th>\n",
       "      <td>0.036807</td>\n",
       "      <td>0.033481</td>\n",
       "    </tr>\n",
       "    <tr>\n",
       "      <th>White</th>\n",
       "      <td>0.040639</td>\n",
       "      <td>0.030217</td>\n",
       "    </tr>\n",
       "  </tbody>\n",
       "</table>\n",
       "</div>"
      ],
      "text/plain": [
       "              search_rate  frisk_rate\n",
       "subject_race                         \n",
       "Asian         0.026132     0.018494  \n",
       "Black         0.059207     0.062235  \n",
       "Hispanic      0.050532     0.046606  \n",
       "Other         0.036807     0.033481  \n",
       "White         0.040639     0.030217  "
      ]
     },
     "metadata": {},
     "output_type": "display_data"
    }
   ],
   "source": [
    "# get search and frisk rates per race\n",
    "search_frisk = pd.concat([stops_2017.groupby('subject_race').search_conducted.mean(),\n",
    "                          stops_2017.groupby('subject_race').frisk_performed.mean()], axis=1)\n",
    "search_frisk.columns = ['search_rate', 'frisk_rate']\n",
    "\n",
    "display(search_frisk)"
   ]
  },
  {
   "cell_type": "code",
   "execution_count": 17,
   "metadata": {
    "ExecuteTime": {
     "end_time": "2021-03-15T21:28:43.358459Z",
     "start_time": "2021-03-15T21:28:43.338827Z"
    }
   },
   "outputs": [
    {
     "data": {
      "text/plain": [
       "1.4569176552669678"
      ]
     },
     "metadata": {},
     "output_type": "display_data"
    },
    {
     "data": {
      "text/plain": [
       "2.0596285400692858"
      ]
     },
     "metadata": {},
     "output_type": "display_data"
    },
    {
     "data": {
      "text/plain": [
       "1.243437693314982"
      ]
     },
     "metadata": {},
     "output_type": "display_data"
    },
    {
     "data": {
      "text/plain": [
       "1.5424003634797465"
      ]
     },
     "metadata": {},
     "output_type": "display_data"
    }
   ],
   "source": [
    "# black and white search rates\n",
    "display(search_frisk.search_rate['Black'] / search_frisk.search_rate['White'])\n",
    "\n",
    "# black and white frisk rates\n",
    "display(search_frisk.frisk_rate['Black'] / search_frisk.frisk_rate['White'])\n",
    "\n",
    "# hispanic and white stfriskop rates\n",
    "display(search_frisk.search_rate['Hispanic'] / search_frisk.search_rate['White'])\n",
    "\n",
    "# hispanic and white frisk rates\n",
    "display(search_frisk.frisk_rate['Hispanic'] / search_frisk.frisk_rate['White'])"
   ]
  },
  {
   "cell_type": "markdown",
   "metadata": {},
   "source": [
    "Problems with out benchmark test:\n",
    "\n",
    "1. Our census pop. data doesn't capture what the distribution of driving behavior looks like (Philly residents != Philly drivers)\n",
    "\n",
    "2. Rates of justifiable searches might also vary by race, so we need to check outcomes of searches (hit_rate)"
   ]
  },
  {
   "cell_type": "code",
   "execution_count": 18,
   "metadata": {
    "ExecuteTime": {
     "end_time": "2021-03-15T21:28:43.388952Z",
     "start_time": "2021-03-15T21:28:43.363208Z"
    }
   },
   "outputs": [
    {
     "data": {
      "text/plain": [
       "False    12300\n",
       "True     3567 \n",
       "Name: contraband_found, dtype: int64"
      ]
     },
     "execution_count": 18,
     "metadata": {},
     "output_type": "execute_result"
    }
   ],
   "source": [
    "stops_2017.contraband_found.value_counts()"
   ]
  },
  {
   "cell_type": "code",
   "execution_count": 19,
   "metadata": {
    "ExecuteTime": {
     "end_time": "2021-03-15T21:28:43.906596Z",
     "start_time": "2021-03-15T21:28:43.396133Z"
    }
   },
   "outputs": [
    {
     "data": {
      "text/plain": [
       "raw_row_number               0      \n",
       "date                         0      \n",
       "time                         0      \n",
       "location                     19995  \n",
       "lat                          58684  \n",
       "lng                          58684  \n",
       "district                     0      \n",
       "service_area                 1      \n",
       "subject_age                  2209   \n",
       "subject_race                 0      \n",
       "subject_sex                  227    \n",
       "type                         0      \n",
       "arrest_made                  0      \n",
       "outcome                      1057260\n",
       "contraband_found             1035975\n",
       "frisk_performed              0      \n",
       "search_conducted             0      \n",
       "search_person                0      \n",
       "search_vehicle               0      \n",
       "raw_race                     0      \n",
       "raw_individual_contraband    0      \n",
       "raw_vehicle_contraband       0      \n",
       "dtype: int64"
      ]
     },
     "execution_count": 19,
     "metadata": {},
     "output_type": "execute_result"
    }
   ],
   "source": [
    "stops.isna().sum()"
   ]
  },
  {
   "cell_type": "code",
   "execution_count": 20,
   "metadata": {
    "ExecuteTime": {
     "end_time": "2021-03-15T21:28:43.987675Z",
     "start_time": "2021-03-15T21:28:43.910444Z"
    }
   },
   "outputs": [
    {
     "data": {
      "text/plain": [
       "subject_race  contraband_found\n",
       "Asian         False               441  \n",
       "              True                132  \n",
       "Black         False               22619\n",
       "              True                8411 \n",
       "Hispanic      False               3609 \n",
       "              True                1342 \n",
       "Other         False               346  \n",
       "              True                84   \n",
       "White         False               5301 \n",
       "              True                2315 \n",
       "dtype: int64"
      ]
     },
     "execution_count": 20,
     "metadata": {},
     "output_type": "execute_result"
    }
   ],
   "source": [
    "stops[stops.search_conducted==True].groupby(['subject_race', 'contraband_found']).size()"
   ]
  },
  {
   "cell_type": "code",
   "execution_count": 21,
   "metadata": {
    "ExecuteTime": {
     "end_time": "2021-03-15T21:28:44.036597Z",
     "start_time": "2021-03-15T21:28:43.993061Z"
    }
   },
   "outputs": [
    {
     "name": "stderr",
     "output_type": "stream",
     "text": [
      "/Users/elliotmacy/opt/anaconda3/envs/learn-env/lib/python3.6/site-packages/pandas/core/generic.py:5208: SettingWithCopyWarning: \n",
      "A value is trying to be set on a copy of a slice from a DataFrame.\n",
      "Try using .loc[row_indexer,col_indexer] = value instead\n",
      "\n",
      "See the caveats in the documentation: http://pandas.pydata.org/pandas-docs/stable/user_guide/indexing.html#returning-a-view-versus-a-copy\n",
      "  self[name] = value\n"
     ]
    },
    {
     "data": {
      "text/html": [
       "<div>\n",
       "<style scoped>\n",
       "    .dataframe tbody tr th:only-of-type {\n",
       "        vertical-align: middle;\n",
       "    }\n",
       "\n",
       "    .dataframe tbody tr th {\n",
       "        vertical-align: top;\n",
       "    }\n",
       "\n",
       "    .dataframe thead th {\n",
       "        text-align: right;\n",
       "    }\n",
       "</style>\n",
       "<table border=\"1\" class=\"dataframe\">\n",
       "  <thead>\n",
       "    <tr style=\"text-align: right;\">\n",
       "      <th></th>\n",
       "      <th>hit_rate</th>\n",
       "    </tr>\n",
       "    <tr>\n",
       "      <th>subject_race</th>\n",
       "      <th></th>\n",
       "    </tr>\n",
       "  </thead>\n",
       "  <tbody>\n",
       "    <tr>\n",
       "      <th>Asian</th>\n",
       "      <td>0.246154</td>\n",
       "    </tr>\n",
       "    <tr>\n",
       "      <th>Black</th>\n",
       "      <td>0.223701</td>\n",
       "    </tr>\n",
       "    <tr>\n",
       "      <th>Hispanic</th>\n",
       "      <td>0.201859</td>\n",
       "    </tr>\n",
       "    <tr>\n",
       "      <th>Other</th>\n",
       "      <td>0.174699</td>\n",
       "    </tr>\n",
       "    <tr>\n",
       "      <th>White</th>\n",
       "      <td>0.250122</td>\n",
       "    </tr>\n",
       "  </tbody>\n",
       "</table>\n",
       "</div>"
      ],
      "text/plain": [
       "              hit_rate\n",
       "subject_race          \n",
       "Asian         0.246154\n",
       "Black         0.223701\n",
       "Hispanic      0.201859\n",
       "Other         0.174699\n",
       "White         0.250122"
      ]
     },
     "metadata": {},
     "output_type": "display_data"
    }
   ],
   "source": [
    "searches_2017 = stops_2017[stops_2017.search_conducted==True]\n",
    "searches_2017.contraband_found = searches_2017.contraband_found.astype(bool)\n",
    "dff = pd.DataFrame(searches_2017.groupby('subject_race').contraband_found.mean()).rename(columns={'contraband_found':'hit_rate'})\n",
    "display(dff)"
   ]
  },
  {
   "cell_type": "markdown",
   "metadata": {},
   "source": [
    "Are officers searching non-white drivers based on less evidence? Do hit rates vary by precint?"
   ]
  },
  {
   "cell_type": "code",
   "execution_count": 22,
   "metadata": {
    "ExecuteTime": {
     "end_time": "2021-03-15T21:28:44.101207Z",
     "start_time": "2021-03-15T21:28:44.042975Z"
    }
   },
   "outputs": [
    {
     "data": {
      "text/html": [
       "<div>\n",
       "<style scoped>\n",
       "    .dataframe tbody tr th:only-of-type {\n",
       "        vertical-align: middle;\n",
       "    }\n",
       "\n",
       "    .dataframe tbody tr th {\n",
       "        vertical-align: top;\n",
       "    }\n",
       "\n",
       "    .dataframe thead th {\n",
       "        text-align: right;\n",
       "    }\n",
       "</style>\n",
       "<table border=\"1\" class=\"dataframe\">\n",
       "  <thead>\n",
       "    <tr style=\"text-align: right;\">\n",
       "      <th></th>\n",
       "      <th></th>\n",
       "      <th>hit_rate</th>\n",
       "    </tr>\n",
       "    <tr>\n",
       "      <th>subject_race</th>\n",
       "      <th>district</th>\n",
       "      <th></th>\n",
       "    </tr>\n",
       "  </thead>\n",
       "  <tbody>\n",
       "    <tr>\n",
       "      <th rowspan=\"5\" valign=\"top\">Asian</th>\n",
       "      <th>1.0</th>\n",
       "      <td>0.166667</td>\n",
       "    </tr>\n",
       "    <tr>\n",
       "      <th>2.0</th>\n",
       "      <td>0.500000</td>\n",
       "    </tr>\n",
       "    <tr>\n",
       "      <th>3.0</th>\n",
       "      <td>0.400000</td>\n",
       "    </tr>\n",
       "    <tr>\n",
       "      <th>6.0</th>\n",
       "      <td>0.333333</td>\n",
       "    </tr>\n",
       "    <tr>\n",
       "      <th>7.0</th>\n",
       "      <td>0.000000</td>\n",
       "    </tr>\n",
       "    <tr>\n",
       "      <th>...</th>\n",
       "      <th>...</th>\n",
       "      <td>...</td>\n",
       "    </tr>\n",
       "    <tr>\n",
       "      <th rowspan=\"5\" valign=\"top\">White</th>\n",
       "      <th>25.0</th>\n",
       "      <td>0.282230</td>\n",
       "    </tr>\n",
       "    <tr>\n",
       "      <th>26.0</th>\n",
       "      <td>0.192771</td>\n",
       "    </tr>\n",
       "    <tr>\n",
       "      <th>35.0</th>\n",
       "      <td>0.264151</td>\n",
       "    </tr>\n",
       "    <tr>\n",
       "      <th>39.0</th>\n",
       "      <td>0.580645</td>\n",
       "    </tr>\n",
       "    <tr>\n",
       "      <th>77.0</th>\n",
       "      <td>0.000000</td>\n",
       "    </tr>\n",
       "  </tbody>\n",
       "</table>\n",
       "<p>104 rows × 1 columns</p>\n",
       "</div>"
      ],
      "text/plain": [
       "                       hit_rate\n",
       "subject_race district          \n",
       "Asian        1.0       0.166667\n",
       "             2.0       0.500000\n",
       "             3.0       0.400000\n",
       "             6.0       0.333333\n",
       "             7.0       0.000000\n",
       "...                         ...\n",
       "White        25.0      0.282230\n",
       "             26.0      0.192771\n",
       "             35.0      0.264151\n",
       "             39.0      0.580645\n",
       "             77.0      0.000000\n",
       "\n",
       "[104 rows x 1 columns]"
      ]
     },
     "execution_count": 22,
     "metadata": {},
     "output_type": "execute_result"
    }
   ],
   "source": [
    "# examine hit rate by district\n",
    "pd.DataFrame(searches_2017.groupby([searches_2017.subject_race, searches_2017.district]).contraband_found.mean()).rename(columns={'contraband_found':'hit_rate'})"
   ]
  },
  {
   "cell_type": "code",
   "execution_count": 23,
   "metadata": {
    "ExecuteTime": {
     "end_time": "2021-03-15T21:28:44.144705Z",
     "start_time": "2021-03-15T21:28:44.130603Z"
    }
   },
   "outputs": [
    {
     "data": {
      "text/plain": [
       "Int64Index([ 1,  2,  3,  4,  5,  6,  7,  8,  9, 10, 11, 12, 13, 14, 15, 16, 17,\n",
       "            18, 19, 20, 21, 22,  1,  2,  3,  4,  5,  6,  7,  8,  9, 10, 11, 12,\n",
       "            13, 14, 15, 16, 17, 18, 19, 20, 21, 22],\n",
       "           dtype='int64')"
      ]
     },
     "execution_count": 23,
     "metadata": {},
     "output_type": "execute_result"
    }
   ],
   "source": [
    "pd.Index(list(range(1, 23))*2)"
   ]
  },
  {
   "cell_type": "code",
   "execution_count": 24,
   "metadata": {
    "ExecuteTime": {
     "end_time": "2021-03-15T21:28:44.225791Z",
     "start_time": "2021-03-15T21:28:44.152091Z"
    }
   },
   "outputs": [
    {
     "data": {
      "text/html": [
       "<div>\n",
       "<style scoped>\n",
       "    .dataframe tbody tr th:only-of-type {\n",
       "        vertical-align: middle;\n",
       "    }\n",
       "\n",
       "    .dataframe tbody tr th {\n",
       "        vertical-align: top;\n",
       "    }\n",
       "\n",
       "    .dataframe thead th {\n",
       "        text-align: right;\n",
       "    }\n",
       "</style>\n",
       "<table border=\"1\" class=\"dataframe\">\n",
       "  <thead>\n",
       "    <tr style=\"text-align: right;\">\n",
       "      <th></th>\n",
       "      <th>white_hit_rate</th>\n",
       "      <th>subject_race</th>\n",
       "      <th>minority_hit_rate</th>\n",
       "    </tr>\n",
       "  </thead>\n",
       "  <tbody>\n",
       "    <tr>\n",
       "      <th>1.0</th>\n",
       "      <td>0.183333</td>\n",
       "      <td>Hispanic</td>\n",
       "      <td>0.272727</td>\n",
       "    </tr>\n",
       "    <tr>\n",
       "      <th>1.0</th>\n",
       "      <td>0.183333</td>\n",
       "      <td>Black</td>\n",
       "      <td>0.263158</td>\n",
       "    </tr>\n",
       "    <tr>\n",
       "      <th>2.0</th>\n",
       "      <td>0.241379</td>\n",
       "      <td>Hispanic</td>\n",
       "      <td>0.035714</td>\n",
       "    </tr>\n",
       "    <tr>\n",
       "      <th>2.0</th>\n",
       "      <td>0.241379</td>\n",
       "      <td>Black</td>\n",
       "      <td>0.194847</td>\n",
       "    </tr>\n",
       "    <tr>\n",
       "      <th>3.0</th>\n",
       "      <td>0.264151</td>\n",
       "      <td>Hispanic</td>\n",
       "      <td>0.174419</td>\n",
       "    </tr>\n",
       "    <tr>\n",
       "      <th>3.0</th>\n",
       "      <td>0.264151</td>\n",
       "      <td>Black</td>\n",
       "      <td>0.197346</td>\n",
       "    </tr>\n",
       "    <tr>\n",
       "      <th>5.0</th>\n",
       "      <td>0.192771</td>\n",
       "      <td>Hispanic</td>\n",
       "      <td>0.136364</td>\n",
       "    </tr>\n",
       "    <tr>\n",
       "      <th>5.0</th>\n",
       "      <td>0.192771</td>\n",
       "      <td>Black</td>\n",
       "      <td>0.283019</td>\n",
       "    </tr>\n",
       "    <tr>\n",
       "      <th>6.0</th>\n",
       "      <td>0.580645</td>\n",
       "      <td>Hispanic</td>\n",
       "      <td>0.105263</td>\n",
       "    </tr>\n",
       "    <tr>\n",
       "      <th>6.0</th>\n",
       "      <td>0.580645</td>\n",
       "      <td>Black</td>\n",
       "      <td>0.280788</td>\n",
       "    </tr>\n",
       "    <tr>\n",
       "      <th>7.0</th>\n",
       "      <td>0.437500</td>\n",
       "      <td>Hispanic</td>\n",
       "      <td>0.375000</td>\n",
       "    </tr>\n",
       "    <tr>\n",
       "      <th>7.0</th>\n",
       "      <td>0.437500</td>\n",
       "      <td>Black</td>\n",
       "      <td>0.329993</td>\n",
       "    </tr>\n",
       "    <tr>\n",
       "      <th>8.0</th>\n",
       "      <td>0.282230</td>\n",
       "      <td>Hispanic</td>\n",
       "      <td>0.179245</td>\n",
       "    </tr>\n",
       "    <tr>\n",
       "      <th>8.0</th>\n",
       "      <td>0.282230</td>\n",
       "      <td>Black</td>\n",
       "      <td>0.195087</td>\n",
       "    </tr>\n",
       "    <tr>\n",
       "      <th>9.0</th>\n",
       "      <td>0.380952</td>\n",
       "      <td>Black</td>\n",
       "      <td>0.196150</td>\n",
       "    </tr>\n",
       "    <tr>\n",
       "      <th>9.0</th>\n",
       "      <td>0.380952</td>\n",
       "      <td>Hispanic</td>\n",
       "      <td>0.115385</td>\n",
       "    </tr>\n",
       "    <tr>\n",
       "      <th>12.0</th>\n",
       "      <td>0.200000</td>\n",
       "      <td>Hispanic</td>\n",
       "      <td>NaN</td>\n",
       "    </tr>\n",
       "    <tr>\n",
       "      <th>12.0</th>\n",
       "      <td>0.200000</td>\n",
       "      <td>Black</td>\n",
       "      <td>0.285714</td>\n",
       "    </tr>\n",
       "    <tr>\n",
       "      <th>14.0</th>\n",
       "      <td>0.200000</td>\n",
       "      <td>Black</td>\n",
       "      <td>0.166667</td>\n",
       "    </tr>\n",
       "    <tr>\n",
       "      <th>14.0</th>\n",
       "      <td>0.200000</td>\n",
       "      <td>Hispanic</td>\n",
       "      <td>0.000000</td>\n",
       "    </tr>\n",
       "    <tr>\n",
       "      <th>15.0</th>\n",
       "      <td>0.714286</td>\n",
       "      <td>Black</td>\n",
       "      <td>0.170732</td>\n",
       "    </tr>\n",
       "    <tr>\n",
       "      <th>15.0</th>\n",
       "      <td>0.714286</td>\n",
       "      <td>Hispanic</td>\n",
       "      <td>0.000000</td>\n",
       "    </tr>\n",
       "    <tr>\n",
       "      <th>16.0</th>\n",
       "      <td>0.428571</td>\n",
       "      <td>Black</td>\n",
       "      <td>0.290323</td>\n",
       "    </tr>\n",
       "    <tr>\n",
       "      <th>16.0</th>\n",
       "      <td>0.428571</td>\n",
       "      <td>Hispanic</td>\n",
       "      <td>0.125000</td>\n",
       "    </tr>\n",
       "    <tr>\n",
       "      <th>17.0</th>\n",
       "      <td>0.300226</td>\n",
       "      <td>Hispanic</td>\n",
       "      <td>0.247191</td>\n",
       "    </tr>\n",
       "    <tr>\n",
       "      <th>17.0</th>\n",
       "      <td>0.300226</td>\n",
       "      <td>Black</td>\n",
       "      <td>0.193989</td>\n",
       "    </tr>\n",
       "    <tr>\n",
       "      <th>18.0</th>\n",
       "      <td>0.383562</td>\n",
       "      <td>Hispanic</td>\n",
       "      <td>0.246914</td>\n",
       "    </tr>\n",
       "    <tr>\n",
       "      <th>18.0</th>\n",
       "      <td>0.383562</td>\n",
       "      <td>Black</td>\n",
       "      <td>0.357143</td>\n",
       "    </tr>\n",
       "    <tr>\n",
       "      <th>19.0</th>\n",
       "      <td>0.611111</td>\n",
       "      <td>Black</td>\n",
       "      <td>0.178571</td>\n",
       "    </tr>\n",
       "    <tr>\n",
       "      <th>19.0</th>\n",
       "      <td>0.611111</td>\n",
       "      <td>Hispanic</td>\n",
       "      <td>0.500000</td>\n",
       "    </tr>\n",
       "    <tr>\n",
       "      <th>22.0</th>\n",
       "      <td>0.296296</td>\n",
       "      <td>Hispanic</td>\n",
       "      <td>0.333333</td>\n",
       "    </tr>\n",
       "    <tr>\n",
       "      <th>22.0</th>\n",
       "      <td>0.296296</td>\n",
       "      <td>Black</td>\n",
       "      <td>0.200000</td>\n",
       "    </tr>\n",
       "    <tr>\n",
       "      <th>24.0</th>\n",
       "      <td>0.304348</td>\n",
       "      <td>Hispanic</td>\n",
       "      <td>0.444444</td>\n",
       "    </tr>\n",
       "    <tr>\n",
       "      <th>24.0</th>\n",
       "      <td>0.304348</td>\n",
       "      <td>Black</td>\n",
       "      <td>0.289157</td>\n",
       "    </tr>\n",
       "    <tr>\n",
       "      <th>25.0</th>\n",
       "      <td>0.243243</td>\n",
       "      <td>Hispanic</td>\n",
       "      <td>0.234375</td>\n",
       "    </tr>\n",
       "    <tr>\n",
       "      <th>25.0</th>\n",
       "      <td>0.243243</td>\n",
       "      <td>Black</td>\n",
       "      <td>0.269690</td>\n",
       "    </tr>\n",
       "    <tr>\n",
       "      <th>26.0</th>\n",
       "      <td>0.210526</td>\n",
       "      <td>Hispanic</td>\n",
       "      <td>0.071429</td>\n",
       "    </tr>\n",
       "    <tr>\n",
       "      <th>26.0</th>\n",
       "      <td>0.210526</td>\n",
       "      <td>Black</td>\n",
       "      <td>0.159722</td>\n",
       "    </tr>\n",
       "    <tr>\n",
       "      <th>35.0</th>\n",
       "      <td>0.500000</td>\n",
       "      <td>Hispanic</td>\n",
       "      <td>0.500000</td>\n",
       "    </tr>\n",
       "    <tr>\n",
       "      <th>35.0</th>\n",
       "      <td>0.500000</td>\n",
       "      <td>Black</td>\n",
       "      <td>0.284746</td>\n",
       "    </tr>\n",
       "    <tr>\n",
       "      <th>39.0</th>\n",
       "      <td>0.418919</td>\n",
       "      <td>Hispanic</td>\n",
       "      <td>0.424242</td>\n",
       "    </tr>\n",
       "    <tr>\n",
       "      <th>39.0</th>\n",
       "      <td>0.418919</td>\n",
       "      <td>Black</td>\n",
       "      <td>0.257576</td>\n",
       "    </tr>\n",
       "    <tr>\n",
       "      <th>77.0</th>\n",
       "      <td>0.000000</td>\n",
       "      <td>Black</td>\n",
       "      <td>0.000000</td>\n",
       "    </tr>\n",
       "    <tr>\n",
       "      <th>77.0</th>\n",
       "      <td>0.000000</td>\n",
       "      <td>Hispanic</td>\n",
       "      <td>0.000000</td>\n",
       "    </tr>\n",
       "  </tbody>\n",
       "</table>\n",
       "</div>"
      ],
      "text/plain": [
       "      white_hit_rate subject_race  minority_hit_rate\n",
       "1.0   0.183333        Hispanic     0.272727         \n",
       "1.0   0.183333        Black        0.263158         \n",
       "2.0   0.241379        Hispanic     0.035714         \n",
       "2.0   0.241379        Black        0.194847         \n",
       "3.0   0.264151        Hispanic     0.174419         \n",
       "3.0   0.264151        Black        0.197346         \n",
       "5.0   0.192771        Hispanic     0.136364         \n",
       "5.0   0.192771        Black        0.283019         \n",
       "6.0   0.580645        Hispanic     0.105263         \n",
       "6.0   0.580645        Black        0.280788         \n",
       "7.0   0.437500        Hispanic     0.375000         \n",
       "7.0   0.437500        Black        0.329993         \n",
       "8.0   0.282230        Hispanic     0.179245         \n",
       "8.0   0.282230        Black        0.195087         \n",
       "9.0   0.380952        Black        0.196150         \n",
       "9.0   0.380952        Hispanic     0.115385         \n",
       "12.0  0.200000        Hispanic    NaN               \n",
       "12.0  0.200000        Black        0.285714         \n",
       "14.0  0.200000        Black        0.166667         \n",
       "14.0  0.200000        Hispanic     0.000000         \n",
       "15.0  0.714286        Black        0.170732         \n",
       "15.0  0.714286        Hispanic     0.000000         \n",
       "16.0  0.428571        Black        0.290323         \n",
       "16.0  0.428571        Hispanic     0.125000         \n",
       "17.0  0.300226        Hispanic     0.247191         \n",
       "17.0  0.300226        Black        0.193989         \n",
       "18.0  0.383562        Hispanic     0.246914         \n",
       "18.0  0.383562        Black        0.357143         \n",
       "19.0  0.611111        Black        0.178571         \n",
       "19.0  0.611111        Hispanic     0.500000         \n",
       "22.0  0.296296        Hispanic     0.333333         \n",
       "22.0  0.296296        Black        0.200000         \n",
       "24.0  0.304348        Hispanic     0.444444         \n",
       "24.0  0.304348        Black        0.289157         \n",
       "25.0  0.243243        Hispanic     0.234375         \n",
       "25.0  0.243243        Black        0.269690         \n",
       "26.0  0.210526        Hispanic     0.071429         \n",
       "26.0  0.210526        Black        0.159722         \n",
       "35.0  0.500000        Hispanic     0.500000         \n",
       "35.0  0.500000        Black        0.284746         \n",
       "39.0  0.418919        Hispanic     0.424242         \n",
       "39.0  0.418919        Black        0.257576         \n",
       "77.0  0.000000        Black        0.000000         \n",
       "77.0  0.000000        Hispanic     0.000000         "
      ]
     },
     "execution_count": 24,
     "metadata": {},
     "output_type": "execute_result"
    }
   ],
   "source": [
    "ddff = pd.DataFrame(searches_2017.groupby([searches_2017.subject_race, searches_2017.district]).contraband_found.mean()).rename(columns={'contraband_found':'hit_rate'}).unstack().T.melt(id_vars='White')\n",
    "ddff = ddff[ddff.subject_race.isin(['Black', 'Hispanic'])]\n",
    "ddff.fillna(0)\n",
    "ddff = ddff.set_index(pd.Index(np.tile(stops.district.unique(), 2)))\n",
    "ddff = ddff.rename(columns={'White':'white_hit_rate', 'value':'minority_hit_rate'})\n",
    "ddff.sort_index()"
   ]
  },
  {
   "cell_type": "markdown",
   "metadata": {},
   "source": [
    "Exclude district 77 (airport, da offices, etc.)"
   ]
  },
  {
   "cell_type": "code",
   "execution_count": 25,
   "metadata": {
    "ExecuteTime": {
     "end_time": "2021-03-15T21:28:44.942851Z",
     "start_time": "2021-03-15T21:28:44.230485Z"
    },
    "scrolled": true
   },
   "outputs": [
    {
     "data": {
      "image/png": "[encoded data removed]",
      "text/plain": [
       "<Figure size 864x432 with 2 Axes>"
      ]
     },
     "metadata": {
      "needs_background": "light"
     },
     "output_type": "display_data"
    }
   ],
   "source": [
    "fig, ax = plt.subplots(1,2,figsize=(12,6))\n",
    "sns.scatterplot(x='white_hit_rate',\n",
    "                y='minority_hit_rate',\n",
    "                size=stops_2017.groupby('district').size(),\n",
    "                data=ddff[ddff.subject_race=='Black'],\n",
    "                edgecolor='black',\n",
    "                color=\"white\",\n",
    "                sizes=(1, 400),                ax=ax[0]).set_title('Black')\n",
    "ax[0].plot([-0.05, .85], [-0.05, .85], linewidth=0.5, linestyle='-.', color='k')\n",
    "\n",
    "sns.scatterplot(x='white_hit_rate',\n",
    "                y='minority_hit_rate',\n",
    "                size=stops_2017.groupby('district').size(),\n",
    "                data=ddff[ddff.subject_race=='Hispanic'],\n",
    "                edgecolor='black',\n",
    "                color=\"white\",\n",
    "                sizes=(1, 400),\n",
    "                ax=ax[1]).set_title('Hispanic')\n",
    "ax[1].plot([-0.05, .85], [-0.05, .85], linewidth=0.5, linestyle='-.', color='k')\n",
    "plt.setp(ax, xlim=(-0.05, .85), ylim=(-0.05, .85))\n",
    "ax[0].get_legend().remove()\n",
    "ax[1].get_legend().remove()\n",
    "plt.show()"
   ]
  },
  {
   "cell_type": "code",
   "execution_count": 26,
   "metadata": {
    "ExecuteTime": {
     "end_time": "2021-03-15T21:28:44.958031Z",
     "start_time": "2021-03-15T21:28:44.945525Z"
    }
   },
   "outputs": [
    {
     "data": {
      "text/plain": [
       "0 BLOCK PIA WAY                    245\n",
       "8800 BLOCK ESSINGTON AVE IA WAY    212\n",
       "8800 BLOCK ESSINGTON AVE           150\n",
       "98 PIA WAY                         84 \n",
       "1 PIA WAY                          44 \n",
       "                                   .. \n",
       "D                                  1  \n",
       "PIA Fence Line                     1  \n",
       "PIA S COMMERCIAL RD                1  \n",
       "SOUTH COMM RD                      1  \n",
       "B ARRIVALS                         1  \n",
       "Name: location, Length: 83, dtype: int64"
      ]
     },
     "execution_count": 26,
     "metadata": {},
     "output_type": "execute_result"
    }
   ],
   "source": [
    "stops_2017[stops_2017.district == 77].location.value_counts()"
   ]
  },
  {
   "cell_type": "code",
   "execution_count": 27,
   "metadata": {
    "ExecuteTime": {
     "end_time": "2021-03-15T21:28:45.025801Z",
     "start_time": "2021-03-15T21:28:44.961542Z"
    }
   },
   "outputs": [
    {
     "name": "stderr",
     "output_type": "stream",
     "text": [
      "/Users/elliotmacy/opt/anaconda3/envs/learn-env/lib/python3.6/site-packages/pandas/core/generic.py:5208: SettingWithCopyWarning: \n",
      "A value is trying to be set on a copy of a slice from a DataFrame.\n",
      "Try using .loc[row_indexer,col_indexer] = value instead\n",
      "\n",
      "See the caveats in the documentation: http://pandas.pydata.org/pandas-docs/stable/user_guide/indexing.html#returning-a-view-versus-a-copy\n",
      "  self[name] = value\n"
     ]
    },
    {
     "data": {
      "text/html": [
       "<div>\n",
       "<style scoped>\n",
       "    .dataframe tbody tr th:only-of-type {\n",
       "        vertical-align: middle;\n",
       "    }\n",
       "\n",
       "    .dataframe tbody tr th {\n",
       "        vertical-align: top;\n",
       "    }\n",
       "\n",
       "    .dataframe thead th {\n",
       "        text-align: right;\n",
       "    }\n",
       "</style>\n",
       "<table border=\"1\" class=\"dataframe\">\n",
       "  <thead>\n",
       "    <tr style=\"text-align: right;\">\n",
       "      <th></th>\n",
       "      <th>hit_rate</th>\n",
       "    </tr>\n",
       "    <tr>\n",
       "      <th>subject_race</th>\n",
       "      <th></th>\n",
       "    </tr>\n",
       "  </thead>\n",
       "  <tbody>\n",
       "    <tr>\n",
       "      <th>Asian</th>\n",
       "      <td>0.309677</td>\n",
       "    </tr>\n",
       "    <tr>\n",
       "      <th>Black</th>\n",
       "      <td>0.227761</td>\n",
       "    </tr>\n",
       "    <tr>\n",
       "      <th>Hispanic</th>\n",
       "      <td>0.207084</td>\n",
       "    </tr>\n",
       "    <tr>\n",
       "      <th>Other</th>\n",
       "      <td>0.198630</td>\n",
       "    </tr>\n",
       "    <tr>\n",
       "      <th>White</th>\n",
       "      <td>0.312044</td>\n",
       "    </tr>\n",
       "  </tbody>\n",
       "</table>\n",
       "</div>"
      ],
      "text/plain": [
       "              hit_rate\n",
       "subject_race          \n",
       "Asian         0.309677\n",
       "Black         0.227761\n",
       "Hispanic      0.207084\n",
       "Other         0.198630\n",
       "White         0.312044"
      ]
     },
     "metadata": {},
     "output_type": "display_data"
    }
   ],
   "source": [
    "# compute citywide hit rates again with district 77 removed\n",
    "searches_2017 = stops_2017[(stops_2017.search_conducted==True) & (stops_2017.district!=77)]\n",
    "searches_2017.contraband_found = searches_2017.contraband_found.astype(bool)\n",
    "dff = pd.DataFrame(searches_2017.groupby('subject_race').contraband_found.mean()).rename(columns={'contraband_found':'hit_rate'})\n",
    "display(dff)"
   ]
  },
  {
   "cell_type": "markdown",
   "metadata": {},
   "source": [
    "Veil of Darkness Test"
   ]
  },
  {
   "cell_type": "code",
   "execution_count": 28,
   "metadata": {
    "ExecuteTime": {
     "end_time": "2021-03-15T21:31:34.393633Z",
     "start_time": "2021-03-15T21:28:45.030438Z"
    }
   },
   "outputs": [
    {
     "name": "stderr",
     "output_type": "stream",
     "text": [
      "/Users/elliotmacy/opt/anaconda3/envs/learn-env/lib/python3.6/site-packages/pandas/core/generic.py:5208: SettingWithCopyWarning: \n",
      "A value is trying to be set on a copy of a slice from a DataFrame.\n",
      "Try using .loc[row_indexer,col_indexer] = value instead\n",
      "\n",
      "See the caveats in the documentation: http://pandas.pydata.org/pandas-docs/stable/user_guide/indexing.html#returning-a-view-versus-a-copy\n",
      "  self[name] = value\n",
      "/Users/elliotmacy/opt/anaconda3/envs/learn-env/lib/python3.6/site-packages/ipykernel_launcher.py:37: SettingWithCopyWarning: \n",
      "A value is trying to be set on a copy of a slice from a DataFrame.\n",
      "Try using .loc[row_indexer,col_indexer] = value instead\n",
      "\n",
      "See the caveats in the documentation: http://pandas.pydata.org/pandas-docs/stable/user_guide/indexing.html#returning-a-view-versus-a-copy\n",
      "/Users/elliotmacy/opt/anaconda3/envs/learn-env/lib/python3.6/site-packages/ipykernel_launcher.py:38: SettingWithCopyWarning: \n",
      "A value is trying to be set on a copy of a slice from a DataFrame.\n",
      "Try using .loc[row_indexer,col_indexer] = value instead\n",
      "\n",
      "See the caveats in the documentation: http://pandas.pydata.org/pandas-docs/stable/user_guide/indexing.html#returning-a-view-versus-a-copy\n",
      "/Users/elliotmacy/opt/anaconda3/envs/learn-env/lib/python3.6/site-packages/ipykernel_launcher.py:40: SettingWithCopyWarning: \n",
      "A value is trying to be set on a copy of a slice from a DataFrame.\n",
      "Try using .loc[row_indexer,col_indexer] = value instead\n",
      "\n",
      "See the caveats in the documentation: http://pandas.pydata.org/pandas-docs/stable/user_guide/indexing.html#returning-a-view-versus-a-copy\n"
     ]
    }
   ],
   "source": [
    "start_date = datetime.date(year=2017, month=1, day=1)\n",
    "city = LocationInfo(\"Philadelphia\",\n",
    "                    \"Pennsylvania\",\n",
    "                    \"Eastern Standard Time\", #<--- check which params are req'd\n",
    "                    location.latitude,\n",
    "                    location.longitude)\n",
    "\n",
    "inter_twilight = pd.DataFrame(columns=['Date', 'Sunset', 'Dusk'])\n",
    "\n",
    "# iterate through year and append sunset and dusk times to inte_twilight df\n",
    "for date in [start_date + datetime.timedelta(days=days) for days in range(365)]:\n",
    "    inter_twilight = inter_twilight.append({'Date': date,\n",
    "                                            'Sunset': sun(city.observer, date)[\"sunset\"],\n",
    "                                            'Dusk': sun(city.observer, date)[\"dusk\"]}, ignore_index=True)\n",
    "\n",
    "# convert cols to datetime\n",
    "for column in inter_twilight.columns:\n",
    "    inter_twilight[column] = pd.to_datetime(inter_twilight[column])\n",
    "\n",
    "# convert sunset and dusk to time objects\n",
    "inter_twilight.Sunset = inter_twilight.Sunset.apply(lambda x: x.time())\n",
    "inter_twilight.Dusk = inter_twilight.Dusk.apply(lambda x: x.time())\n",
    "\n",
    "\"\"\"If stop is before sunset, is_dark == False\n",
    "If stop is after dusk, is_dark == True\n",
    "Drop stops between sunset and dusk\n",
    "\n",
    "For each stop:\n",
    "check date\n",
    "find sunset and dusk for date\n",
    "check if stop is before/after sunset/dusk\n",
    "\n",
    "Drop stops if stop time is before/after sunset.min()/dusk.max()\"\"\"\n",
    "\n",
    "# convert time to datetime.time obj\n",
    "stops_2017.time = stops_2017.time.apply(lambda x: pd.to_datetime(x).time())\n",
    "                                        \n",
    "# add sunset and dusk\n",
    "stops_2017['Sunset'] = stops_2017.date.apply(lambda x: sun(city.observer, x, tzinfo='EST')[\"sunset\"].time())\n",
    "stops_2017['Dusk'] = stops_2017.date.apply(lambda x: sun(city.observer, x, tzinfo='EST')[\"dusk\"].time())\n",
    "\n",
    "# calculate whether or not stop is after dusk\n",
    "stops_2017['is_dark'] = stops_2017.time > stops_2017.Dusk"
   ]
  }
 ],
 "metadata": {
  "kernelspec": {
   "display_name": "Python 3",
   "language": "python",
   "name": "python3"
  },
  "language_info": {
   "codemirror_mode": {
    "name": "ipython",
    "version": 3
   },
   "file_extension": ".py",
   "mimetype": "text/x-python",
   "name": "python",
   "nbconvert_exporter": "python",
   "pygments_lexer": "ipython3",
   "version": "3.6.9"
  },
  "toc": {
   "base_numbering": 1,
   "nav_menu": {},
   "number_sections": true,
   "sideBar": true,
   "skip_h1_title": false,
   "title_cell": "Table of Contents",
   "title_sidebar": "Contents",
   "toc_cell": false,
   "toc_position": {},
   "toc_section_display": true,
   "toc_window_display": false
  },
  "varInspector": {
   "cols": {
    "lenName": 16,
    "lenType": 16,
    "lenVar": 40
   },
   "kernels_config": {
    "python": {
     "delete_cmd_postfix": "",
     "delete_cmd_prefix": "del ",
     "library": "var_list.py",
     "varRefreshCmd": "print(var_dic_list())"
    },
    "r": {
     "delete_cmd_postfix": ") ",
     "delete_cmd_prefix": "rm(",
     "library": "var_list.r",
     "varRefreshCmd": "cat(var_dic_list()) "
    }
   },
   "types_to_exclude": [
    "module",
    "function",
    "builtin_function_or_method",
    "instance",
    "_Feature"
   ],
   "window_display": false
  }
 },
 "nbformat": 4,
 "nbformat_minor": 4
}
