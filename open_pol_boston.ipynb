{
 "cells": [
  {
   "cell_type": "code",
   "execution_count": 1,
   "metadata": {
    "ExecuteTime": {
     "end_time": "2021-04-28T02:31:01.175662Z",
     "start_time": "2021-04-28T02:30:59.976690Z"
    }
   },
   "outputs": [],
   "source": [
    "# api\n",
    "import json\n",
    "import requests\n",
    "\n",
    "# sunrise and sunset\n",
    "import datetime as dt\n",
    "from astral.sun import sun\n",
    "from astral import LocationInfo\n",
    "\n",
    "# long and lat\n",
    "from geopy.geocoders import Nominatim\n",
    "\n",
    "# utils\n",
    "import numpy as np\n",
    "import pandas as pd\n",
    "import seaborn as sns\n",
    "import matplotlib.pyplot as plt\n",
    "\n",
    "# prefs\n",
    "plt.style.use('fivethirtyeight')\n",
    "pd.set_option('display.max_colwidth', -1)\n",
    "pd.set_option('display.max_columns', None)"
   ]
  },
  {
   "cell_type": "code",
   "execution_count": 2,
   "metadata": {
    "ExecuteTime": {
     "end_time": "2021-04-28T02:31:02.208081Z",
     "start_time": "2021-04-28T02:31:01.178645Z"
    }
   },
   "outputs": [],
   "source": [
    "# census api\n",
    "api_get = 'C03002_003E,C03002_004E,C03002_005E,C03002_006E,C03002_007E,C03002_008E,C03002_009E,C03002_012E'\n",
    "api_for = 'place:*'\n",
    "with open('.census_api_key') as f:\n",
    "    api_key = json.load(f)['api_key']\n",
    "    \n",
    "# construct api call\n",
    "api_url = f'https://api.census.gov/data/2017/acs/acs1?get={api_get}&for={api_for}&key={api_key}'\n",
    "\n",
    "# call the api and collect response\n",
    "response = requests.get(api_url)\n",
    "\n",
    "# name response columns\n",
    "cols = ['White',\n",
    "        'Black',\n",
    "        'Indigenous',\n",
    "        'Asian',\n",
    "        'Pacific_Islander',\n",
    "        'Other',\n",
    "        'Mixed',\n",
    "        'Hispanic',\n",
    "        'State',\n",
    "        'Place']\n",
    "\n",
    "# load response text into census df\n",
    "census = pd.DataFrame(json.loads(response.text)[1:], columns=cols)"
   ]
  },
  {
   "cell_type": "code",
   "execution_count": 3,
   "metadata": {
    "ExecuteTime": {
     "end_time": "2021-04-28T02:31:03.035725Z",
     "start_time": "2021-04-28T02:31:02.213409Z"
    }
   },
   "outputs": [
    {
     "name": "stdout",
     "output_type": "stream",
     "text": [
      "White\tBlack\tAsian\tOther\tHispanic\n",
      "300126\t158080\t66066\t19250\t139493\n",
      "0.439\t0.231\t0.097\t0.028\t0.204\n"
     ]
    }
   ],
   "source": [
    "# api\n",
    "api_get = 'C03002_003E,C03002_004E,C03002_005E,C03002_006E,C03002_007E,C03002_008E,C03002_009E,C03002_012E'\n",
    "api_for = 'place:*'\n",
    "with open('.census_api_key') as f:\n",
    "    api_key = json.load(f)['api_key']\n",
    "    \n",
    "# construct the api call we will use\n",
    "api_url = f'https://api.census.gov/data/2017/acs/acs1?get={api_get}&for={api_for}&key={api_key}'\n",
    "\n",
    "# call the api and collect the response\n",
    "response = requests.get(api_url)\n",
    "\n",
    "cols = ['White',\n",
    "        'Black',\n",
    "        'Indigenous',\n",
    "        'Asian',\n",
    "        'Pacific_Islander',\n",
    "        'Other',\n",
    "        'Mixed',\n",
    "        'Hispanic',\n",
    "        'State',\n",
    "        'Place']\n",
    "\n",
    "# philidelphia city and county are coextensive\n",
    "census = pd.DataFrame(json.loads(response.text)[1:], columns=cols)\n",
    "boston = census[(census.State=='25')&(census.Place=='07000')].astype('int').reset_index(drop=True)\n",
    "\n",
    "# merge cols\n",
    "boston.Other += boston.Indigenous + boston.Mixed\n",
    "boston.Asian += boston.Pacific_Islander\n",
    "boston = boston.drop(columns=['Indigenous', 'Pacific_Islander', 'Mixed', 'State', 'Place'])\n",
    "boston_normed = round(boston/boston.iloc[0].sum(), 3)\n",
    "\n",
    "# display pop. by race\n",
    "print(f\"{boston.columns[0]}\\t{boston.columns[1]}\\t{boston.columns[2]}\\t{boston.columns[3]}\\t{boston.columns[4]}\")\n",
    "print(f\"{boston.values[0][0]}\\t{boston.values[0][1]}\\t{boston.values[0][2]}\\t{boston.values[0][3]}\\t{boston.values[0][4]}\")\n",
    "print(f\"{boston_normed.values[0][0]}\\t{boston_normed.values[0][1]}\\t{boston_normed.values[0][2]}\\t{boston_normed.values[0][3]}\\t{boston_normed.values[0][4]}\")\n",
    "# print(pd.concat([boston, boston_normed]).reset_index().T.rename(columns={0:'Total Pop.', 1:'Percentage'}).T.drop(columns=['index'])) #<-- alt. way to display pop. table"
   ]
  },
  {
   "cell_type": "code",
   "execution_count": 4,
   "metadata": {
    "ExecuteTime": {
     "end_time": "2021-04-28T02:31:03.338191Z",
     "start_time": "2021-04-28T02:31:03.040889Z"
    }
   },
   "outputs": [
    {
     "name": "stdout",
     "output_type": "stream",
     "text": [
      "(42.3602534, -71.0582912)\n"
     ]
    }
   ],
   "source": [
    "# boston lat and long centroid\n",
    "address='Boston'\n",
    "with open('.geopy_user_agent') as f:\n",
    "    geopy_user_agent = json.load(f)['geopy_user_agent']\n",
    "\n",
    "geolocator = Nominatim(user_agent=geopy_user_agent)\n",
    "location = geolocator.geocode(address)\n",
    "print((location.latitude, location.longitude))"
   ]
  },
  {
   "cell_type": "code",
   "execution_count": 5,
   "metadata": {
    "ExecuteTime": {
     "end_time": "2021-04-28T02:31:05.144074Z",
     "start_time": "2021-04-28T02:31:03.342016Z"
    }
   },
   "outputs": [
    {
     "data": {
      "text/html": [
       "<div>\n",
       "<style scoped>\n",
       "    .dataframe tbody tr th:only-of-type {\n",
       "        vertical-align: middle;\n",
       "    }\n",
       "\n",
       "    .dataframe tbody tr th {\n",
       "        vertical-align: top;\n",
       "    }\n",
       "\n",
       "    .dataframe thead th {\n",
       "        text-align: right;\n",
       "    }\n",
       "</style>\n",
       "<table border=\"1\" class=\"dataframe\">\n",
       "  <thead>\n",
       "    <tr style=\"text-align: right;\">\n",
       "      <th></th>\n",
       "      <th>SEQ_NUM</th>\n",
       "      <th>FIO_ID</th>\n",
       "      <th>SEX</th>\n",
       "      <th>LOCATION</th>\n",
       "      <th>DIST</th>\n",
       "      <th>DIST_ID</th>\n",
       "      <th>FIO_DATE</th>\n",
       "      <th>FIO_TIME</th>\n",
       "      <th>PRIORS</th>\n",
       "      <th>DESCRIPTION</th>\n",
       "      <th>CLOTHING</th>\n",
       "      <th>COMPLEXION</th>\n",
       "      <th>FIOFS_TYPE</th>\n",
       "      <th>TERRORISM</th>\n",
       "      <th>SEARCH</th>\n",
       "      <th>BASIS</th>\n",
       "      <th>STOP_REASONS</th>\n",
       "      <th>ENTEREDBY</th>\n",
       "      <th>FIOFS_REASONS</th>\n",
       "      <th>OUTCOME</th>\n",
       "      <th>VEH_MAKE</th>\n",
       "      <th>VEH_YEAR_NUM</th>\n",
       "      <th>VEH_COLOR</th>\n",
       "      <th>VEH_MODEL</th>\n",
       "      <th>VEH_OCCUPANT</th>\n",
       "      <th>VEH_STATE</th>\n",
       "      <th>SUPERVISOR_ID</th>\n",
       "      <th>OFFICER_ID</th>\n",
       "      <th>SUPERVISOR</th>\n",
       "      <th>OFF_DIST_ID</th>\n",
       "      <th>OFF_DIST</th>\n",
       "      <th>OFFICER</th>\n",
       "      <th>SUP_ENTRYDATE</th>\n",
       "      <th>LAST_UPDATEBY</th>\n",
       "      <th>LAST_UPDATETIME</th>\n",
       "      <th>ETHNICITY</th>\n",
       "      <th>FIRST_INSERTTIME</th>\n",
       "      <th>ACTIVE_ID</th>\n",
       "      <th>RACE_ID</th>\n",
       "      <th>RACE_DESC</th>\n",
       "      <th>FIO_DATE_CORRECTED</th>\n",
       "      <th>AGE_AT_FIO_CORRECTED</th>\n",
       "      <th>STREET_ID</th>\n",
       "      <th>CITY</th>\n",
       "    </tr>\n",
       "  </thead>\n",
       "  <tbody>\n",
       "    <tr>\n",
       "      <th>0</th>\n",
       "      <td>938283</td>\n",
       "      <td>621880</td>\n",
       "      <td>MALE</td>\n",
       "      <td>NORMANDY ST at SUPPLE RD</td>\n",
       "      <td>B2</td>\n",
       "      <td>3</td>\n",
       "      <td>12/10/2013 12:00:00 AM</td>\n",
       "      <td>12/10/2013 12:00:00 AM</td>\n",
       "      <td>YES</td>\n",
       "      <td>B(Black)</td>\n",
       "      <td>blk jacket, blk shirt, blue jeans, wht sneakers</td>\n",
       "      <td>Med</td>\n",
       "      <td>IOFS</td>\n",
       "      <td>NO</td>\n",
       "      <td>VP</td>\n",
       "      <td>CONSENT SEARCH</td>\n",
       "      <td>INVESTIGATIVE</td>\n",
       "      <td>11992.0</td>\n",
       "      <td>DRUGS, INVESTIGATION</td>\n",
       "      <td>SFO</td>\n",
       "      <td>NISSAN</td>\n",
       "      <td>2012.0</td>\n",
       "      <td>SILVER</td>\n",
       "      <td>max</td>\n",
       "      <td>DRIVER</td>\n",
       "      <td>MA</td>\n",
       "      <td>10132.0</td>\n",
       "      <td>98656</td>\n",
       "      <td>JOHN D BRODERICK JR</td>\n",
       "      <td>9999</td>\n",
       "      <td>OTHER</td>\n",
       "      <td>Liam P Hawkins</td>\n",
       "      <td>12/08/2013 12:00:00 AM</td>\n",
       "      <td>11992.0</td>\n",
       "      <td>01/30/2014 12:00:00 AM</td>\n",
       "      <td>NaN</td>\n",
       "      <td>01/30/2014 12:00:00 AM</td>\n",
       "      <td>1</td>\n",
       "      <td>2</td>\n",
       "      <td>B(Black)</td>\n",
       "      <td>12/10/2013 12:00:00 AM</td>\n",
       "      <td>59</td>\n",
       "      <td>3274</td>\n",
       "      <td>NO DATA ENTERED</td>\n",
       "    </tr>\n",
       "    <tr>\n",
       "      <th>1</th>\n",
       "      <td>881897</td>\n",
       "      <td>565177</td>\n",
       "      <td>MALE</td>\n",
       "      <td>75 BOYLSTON ST</td>\n",
       "      <td>A1</td>\n",
       "      <td>1</td>\n",
       "      <td>05/24/2012 12:00:00 AM</td>\n",
       "      <td>05/24/2012 12:00:00 AM</td>\n",
       "      <td>NO</td>\n",
       "      <td>W(White)</td>\n",
       "      <td>GRY. SWEATSHIRT, BLUE JEANS</td>\n",
       "      <td>Med</td>\n",
       "      <td>IO</td>\n",
       "      <td>NO</td>\n",
       "      <td>NaN</td>\n",
       "      <td>REASONABLE SUSPICION</td>\n",
       "      <td>RADIO CALL</td>\n",
       "      <td>51340.0</td>\n",
       "      <td>DRUGS, POSSESSION</td>\n",
       "      <td>F</td>\n",
       "      <td>NO DATA ENTERED</td>\n",
       "      <td>0.0</td>\n",
       "      <td>NO DATA ENTERED</td>\n",
       "      <td>NaN</td>\n",
       "      <td>NaN</td>\n",
       "      <td>NO DATA ENTERED</td>\n",
       "      <td>8949.0</td>\n",
       "      <td>9765</td>\n",
       "      <td>PAUL R DONOVAN</td>\n",
       "      <td>1</td>\n",
       "      <td>A1</td>\n",
       "      <td>EDWARD J MACPHERSON</td>\n",
       "      <td>05/29/2012 12:00:00 AM</td>\n",
       "      <td>51340.0</td>\n",
       "      <td>06/06/2012 12:00:00 AM</td>\n",
       "      <td>NaN</td>\n",
       "      <td>06/06/2012 12:00:00 AM</td>\n",
       "      <td>1</td>\n",
       "      <td>4</td>\n",
       "      <td>W(White)</td>\n",
       "      <td>05/24/2012 12:00:00 AM</td>\n",
       "      <td>26</td>\n",
       "      <td>543</td>\n",
       "      <td>OTHER</td>\n",
       "    </tr>\n",
       "    <tr>\n",
       "      <th>2</th>\n",
       "      <td>882060</td>\n",
       "      <td>565340</td>\n",
       "      <td>MALE</td>\n",
       "      <td>5 TOPLIFF ST</td>\n",
       "      <td>C11</td>\n",
       "      <td>5</td>\n",
       "      <td>06/04/2012 12:00:00 AM</td>\n",
       "      <td>06/04/2012 12:00:00 AM</td>\n",
       "      <td>YES</td>\n",
       "      <td>B(Black)</td>\n",
       "      <td>GRY SWEATSHIRT, GRY PANTS</td>\n",
       "      <td>Dark</td>\n",
       "      <td>IOF</td>\n",
       "      <td>NO</td>\n",
       "      <td>NaN</td>\n",
       "      <td>NaN</td>\n",
       "      <td>OTHER (SPECIFY)</td>\n",
       "      <td>11672.0</td>\n",
       "      <td>INVESTIGATE, PERSON</td>\n",
       "      <td>F</td>\n",
       "      <td>NO DATA ENTERED</td>\n",
       "      <td>0.0</td>\n",
       "      <td>NO DATA ENTERED</td>\n",
       "      <td>NaN</td>\n",
       "      <td>NaN</td>\n",
       "      <td>NO DATA ENTERED</td>\n",
       "      <td>11312.0</td>\n",
       "      <td>83575</td>\n",
       "      <td>KENNETH J GAINES</td>\n",
       "      <td>16</td>\n",
       "      <td>YVSF</td>\n",
       "      <td>James   Conley</td>\n",
       "      <td>06/05/2012 12:00:00 AM</td>\n",
       "      <td>11672.0</td>\n",
       "      <td>06/07/2012 12:00:00 AM</td>\n",
       "      <td>NaN</td>\n",
       "      <td>06/07/2012 12:00:00 AM</td>\n",
       "      <td>1</td>\n",
       "      <td>2</td>\n",
       "      <td>B(Black)</td>\n",
       "      <td>06/04/2012 12:00:00 AM</td>\n",
       "      <td>18</td>\n",
       "      <td>4493</td>\n",
       "      <td>NO DATA ENTERED</td>\n",
       "    </tr>\n",
       "  </tbody>\n",
       "</table>\n",
       "</div>"
      ],
      "text/plain": [
       "   SEQ_NUM  FIO_ID   SEX                   LOCATION DIST  DIST_ID  \\\n",
       "0  938283   621880  MALE   NORMANDY ST at SUPPLE RD  B2   3         \n",
       "1  881897   565177  MALE  75 BOYLSTON ST             A1   1         \n",
       "2  882060   565340  MALE  5 TOPLIFF ST               C11  5         \n",
       "\n",
       "                 FIO_DATE                FIO_TIME PRIORS DESCRIPTION  \\\n",
       "0  12/10/2013 12:00:00 AM  12/10/2013 12:00:00 AM  YES    B(Black)     \n",
       "1  05/24/2012 12:00:00 AM  05/24/2012 12:00:00 AM  NO     W(White)     \n",
       "2  06/04/2012 12:00:00 AM  06/04/2012 12:00:00 AM  YES    B(Black)     \n",
       "\n",
       "                                          CLOTHING COMPLEXION FIOFS_TYPE  \\\n",
       "0  blk jacket, blk shirt, blue jeans, wht sneakers  Med        IOFS        \n",
       "1  GRY. SWEATSHIRT, BLUE JEANS                      Med        IO          \n",
       "2  GRY SWEATSHIRT, GRY PANTS                        Dark       IOF         \n",
       "\n",
       "  TERRORISM SEARCH                 BASIS     STOP_REASONS  ENTEREDBY  \\\n",
       "0  NO        VP     CONSENT SEARCH        INVESTIGATIVE    11992.0     \n",
       "1  NO        NaN    REASONABLE SUSPICION  RADIO CALL       51340.0     \n",
       "2  NO        NaN    NaN                   OTHER (SPECIFY)  11672.0     \n",
       "\n",
       "          FIOFS_REASONS OUTCOME         VEH_MAKE  VEH_YEAR_NUM  \\\n",
       "0  DRUGS, INVESTIGATION  SFO     NISSAN           2012.0         \n",
       "1  DRUGS, POSSESSION     F       NO DATA ENTERED  0.0            \n",
       "2  INVESTIGATE, PERSON   F       NO DATA ENTERED  0.0            \n",
       "\n",
       "         VEH_COLOR VEH_MODEL VEH_OCCUPANT        VEH_STATE  SUPERVISOR_ID  \\\n",
       "0  SILVER           max       DRIVER       MA               10132.0         \n",
       "1  NO DATA ENTERED  NaN       NaN          NO DATA ENTERED  8949.0          \n",
       "2  NO DATA ENTERED  NaN       NaN          NO DATA ENTERED  11312.0         \n",
       "\n",
       "   OFFICER_ID           SUPERVISOR  OFF_DIST_ID OFF_DIST              OFFICER  \\\n",
       "0  98656       JOHN D BRODERICK JR  9999         OTHER    Liam P Hawkins        \n",
       "1  9765        PAUL R DONOVAN       1            A1       EDWARD J MACPHERSON   \n",
       "2  83575       KENNETH J GAINES     16           YVSF     James   Conley        \n",
       "\n",
       "            SUP_ENTRYDATE  LAST_UPDATEBY         LAST_UPDATETIME ETHNICITY  \\\n",
       "0  12/08/2013 12:00:00 AM  11992.0        01/30/2014 12:00:00 AM  NaN        \n",
       "1  05/29/2012 12:00:00 AM  51340.0        06/06/2012 12:00:00 AM  NaN        \n",
       "2  06/05/2012 12:00:00 AM  11672.0        06/07/2012 12:00:00 AM  NaN        \n",
       "\n",
       "         FIRST_INSERTTIME  ACTIVE_ID  RACE_ID RACE_DESC  \\\n",
       "0  01/30/2014 12:00:00 AM  1          2        B(Black)   \n",
       "1  06/06/2012 12:00:00 AM  1          4        W(White)   \n",
       "2  06/07/2012 12:00:00 AM  1          2        B(Black)   \n",
       "\n",
       "       FIO_DATE_CORRECTED  AGE_AT_FIO_CORRECTED  STREET_ID             CITY  \n",
       "0  12/10/2013 12:00:00 AM  59                    3274       NO DATA ENTERED  \n",
       "1  05/24/2012 12:00:00 AM  26                    543        OTHER            \n",
       "2  06/04/2012 12:00:00 AM  18                    4493       NO DATA ENTERED  "
      ]
     },
     "metadata": {},
     "output_type": "display_data"
    },
    {
     "name": "stdout",
     "output_type": "stream",
     "text": [
      "<class 'pandas.core.frame.DataFrame'>\n",
      "RangeIndex: 152230 entries, 0 to 152229\n",
      "Data columns (total 44 columns):\n",
      "SEQ_NUM                 152230 non-null int64\n",
      "FIO_ID                  152230 non-null int64\n",
      "SEX                     152230 non-null object\n",
      "LOCATION                152228 non-null object\n",
      "DIST                    152230 non-null object\n",
      "DIST_ID                 152230 non-null int64\n",
      "FIO_DATE                152230 non-null object\n",
      "FIO_TIME                152230 non-null object\n",
      "PRIORS                  131331 non-null object\n",
      "DESCRIPTION             152230 non-null object\n",
      "CLOTHING                138761 non-null object\n",
      "COMPLEXION              152230 non-null object\n",
      "FIOFS_TYPE              152230 non-null object\n",
      "TERRORISM               152230 non-null object\n",
      "SEARCH                  20640 non-null object\n",
      "BASIS                   35544 non-null object\n",
      "STOP_REASONS            105322 non-null object\n",
      "ENTEREDBY               98572 non-null float64\n",
      "FIOFS_REASONS           152230 non-null object\n",
      "OUTCOME                 143316 non-null object\n",
      "VEH_MAKE                141776 non-null object\n",
      "VEH_YEAR_NUM            152049 non-null float64\n",
      "VEH_COLOR               141385 non-null object\n",
      "VEH_MODEL               38913 non-null object\n",
      "VEH_OCCUPANT            39987 non-null object\n",
      "VEH_STATE               152230 non-null object\n",
      "SUPERVISOR_ID           135776 non-null float64\n",
      "OFFICER_ID              152230 non-null int64\n",
      "SUPERVISOR              135776 non-null object\n",
      "OFF_DIST_ID             152230 non-null int64\n",
      "OFF_DIST                152230 non-null object\n",
      "OFFICER                 152230 non-null object\n",
      "SUP_ENTRYDATE           123543 non-null object\n",
      "LAST_UPDATEBY           98578 non-null float64\n",
      "LAST_UPDATETIME         152230 non-null object\n",
      "ETHNICITY               24153 non-null object\n",
      "FIRST_INSERTTIME        152230 non-null object\n",
      "ACTIVE_ID               152230 non-null int64\n",
      "RACE_ID                 152230 non-null int64\n",
      "RACE_DESC               152230 non-null object\n",
      "FIO_DATE_CORRECTED      152230 non-null object\n",
      "AGE_AT_FIO_CORRECTED    152230 non-null int64\n",
      "STREET_ID               152230 non-null int64\n",
      "CITY                    152230 non-null object\n",
      "dtypes: float64(4), int64(9), object(31)\n",
      "memory usage: 51.1+ MB\n"
     ]
    }
   ],
   "source": [
    "# read in police stops dataset\n",
    "stops = pd.read_csv('data/boston-police-department-fio.csv')\n",
    "\n",
    "display(stops.head(3))\n",
    "stops.info()"
   ]
  },
  {
   "cell_type": "code",
   "execution_count": 6,
   "metadata": {
    "ExecuteTime": {
     "end_time": "2021-04-28T02:31:05.274432Z",
     "start_time": "2021-04-28T02:31:05.148437Z"
    }
   },
   "outputs": [],
   "source": [
    "# merge unentered, unknown, american indian/alaskan native, and middle eastern/east indian subject race\n",
    "stops.RACE_DESC = np.where((stops.RACE_DESC == 'NO DATA ENTERED')\n",
    "                      | (stops.RACE_DESC == 'UNKNOWN')\n",
    "                      | (stops.RACE_DESC == 'I(American Indian or Alaskan Native)')\n",
    "                      | (stops.RACE_DESC == 'M(Middle Eastern or East Indian)'),\n",
    "                              'Other',\n",
    "                              stops.RACE_DESC)\n",
    "\n",
    "# rename white, black, hispanic, and asian subject race to match census format\n",
    "conds = [stops.RACE_DESC == 'W(White)',\n",
    "         stops.RACE_DESC == 'B(Black)',\n",
    "         stops.RACE_DESC == 'H(Hispanic)',\n",
    "         stops.RACE_DESC == 'A(Asian or Pacific Islander)']\n",
    "\n",
    "stops.RACE_DESC = np.select(conds, ['White',\n",
    "                               'Black',\n",
    "                               'Hispanic',\n",
    "                               'Asian'], stops.RACE_DESC)"
   ]
  },
  {
   "cell_type": "code",
   "execution_count": 7,
   "metadata": {
    "ExecuteTime": {
     "end_time": "2021-04-28T02:31:05.340524Z",
     "start_time": "2021-04-28T02:31:05.279658Z"
    }
   },
   "outputs": [
    {
     "data": {
      "text/plain": [
       "51176"
      ]
     },
     "metadata": {},
     "output_type": "display_data"
    }
   ],
   "source": [
    "# drop pedestrian stops\n",
    "stops = stops[stops.VEH_COLOR != 'NO DATA ENTERED']\n",
    "\n",
    "# display new number of stops\n",
    "display(len(stops))"
   ]
  },
  {
   "cell_type": "code",
   "execution_count": 8,
   "metadata": {
    "ExecuteTime": {
     "end_time": "2021-04-28T02:31:05.413300Z",
     "start_time": "2021-04-28T02:31:05.346374Z"
    }
   },
   "outputs": [
    {
     "data": {
      "text/plain": [
       "'Stops by race'"
      ]
     },
     "metadata": {},
     "output_type": "display_data"
    },
    {
     "data": {
      "text/plain": [
       "'num'"
      ]
     },
     "metadata": {},
     "output_type": "display_data"
    },
    {
     "data": {
      "text/plain": [
       "Black       31161\n",
       "White       10541\n",
       "Hispanic    6988 \n",
       "Other       2027 \n",
       "Asian       459  \n",
       "Name: RACE_DESC, dtype: int64"
      ]
     },
     "metadata": {},
     "output_type": "display_data"
    },
    {
     "data": {
      "text/plain": [
       "'prop'"
      ]
     },
     "metadata": {},
     "output_type": "display_data"
    },
    {
     "data": {
      "text/plain": [
       "Black       0.608899\n",
       "White       0.205975\n",
       "Hispanic    0.136548\n",
       "Other       0.039608\n",
       "Asian       0.008969\n",
       "Name: RACE_DESC, dtype: float64"
      ]
     },
     "metadata": {},
     "output_type": "display_data"
    }
   ],
   "source": [
    "# display stops by race\n",
    "display(\"Stops by race\",\n",
    "        \"num\",\n",
    "        stops.RACE_DESC.value_counts(),\n",
    "        \"prop\",\n",
    "        stops.RACE_DESC.value_counts(normalize=True))"
   ]
  },
  {
   "cell_type": "markdown",
   "metadata": {},
   "source": [
    "How to explain racial disparity?"
   ]
  },
  {
   "cell_type": "code",
   "execution_count": 9,
   "metadata": {
    "ExecuteTime": {
     "end_time": "2021-04-28T02:31:05.959791Z",
     "start_time": "2021-04-28T02:31:05.421583Z"
    }
   },
   "outputs": [
    {
     "data": {
      "text/plain": [
       "FIO_DATE_CORRECTED  RACE_DESC\n",
       "2011                Asian        110 \n",
       "                    Black        6542\n",
       "                    Hispanic     1589\n",
       "                    Other        416 \n",
       "                    White        2691\n",
       "2012                Asian        121 \n",
       "                    Black        7936\n",
       "                    Hispanic     1782\n",
       "                    Other        500 \n",
       "                    White        3107\n",
       "2013                Asian        115 \n",
       "                    Black        6793\n",
       "                    Hispanic     1402\n",
       "                    Other        440 \n",
       "                    White        2025\n",
       "2014                Asian        97  \n",
       "                    Black        7491\n",
       "                    Hispanic     1728\n",
       "                    Other        494 \n",
       "                    White        2050\n",
       "2015                Asian        16  \n",
       "                    Black        2399\n",
       "                    Hispanic     487 \n",
       "                    Other        177 \n",
       "                    White        668 \n",
       "dtype: int64"
      ]
     },
     "execution_count": 9,
     "metadata": {},
     "output_type": "execute_result"
    }
   ],
   "source": [
    "# convert 'date' to date_time obj\n",
    "stops.FIO_DATE_CORRECTED = pd.to_datetime(stops.FIO_DATE_CORRECTED)\n",
    "\n",
    "# check stops per year per race\n",
    "stops.groupby([stops.FIO_DATE_CORRECTED.map(lambda x: x.year), stops.RACE_DESC]).size()"
   ]
  },
  {
   "cell_type": "markdown",
   "metadata": {},
   "source": [
    "This table has too many entries to digest quickly. Visualizing the stops per year per race will be more effective."
   ]
  },
  {
   "cell_type": "code",
   "execution_count": 10,
   "metadata": {
    "ExecuteTime": {
     "end_time": "2021-04-28T02:31:06.646353Z",
     "start_time": "2021-04-28T02:31:05.963293Z"
    }
   },
   "outputs": [
    {
     "data": {
      "image/png": "[encoded data removed]",
      "text/plain": [
       "<Figure size 504x504 with 1 Axes>"
      ]
     },
     "metadata": {
      "needs_background": "light"
     },
     "output_type": "display_data"
    }
   ],
   "source": [
    "# visualize trend\n",
    "fig = plt.figure(figsize=(7,7))\n",
    "ax = plt.axes()\n",
    "sns.lineplot(data=stops.groupby([stops.FIO_DATE_CORRECTED.map(lambda x: x.year),\n",
    "                                 stops.RACE_DESC]).size().unstack(level=1),\n",
    "             dashes=False,\n",
    "             markers=[\"o\"]*5,\n",
    "             linewidth=1.5)\n",
    "# plt.setp(ax.lines, linewidth=2)\n",
    "ax.set_xticks([2011, 2012, 2013, 2014, 2015])\n",
    "ax.set_ylabel('n', )\n",
    "plt.legend(loc='center right', title='subject_race', bbox_to_anchor=(1.25, .75))\n",
    "plt.show()"
   ]
  },
  {
   "cell_type": "markdown",
   "metadata": {},
   "source": [
    "Examine year 2014 -- Benchmark tests: establish baseline (are blacks stopped more because they make up more of the population?)"
   ]
  },
  {
   "cell_type": "code",
   "execution_count": 11,
   "metadata": {
    "ExecuteTime": {
     "end_time": "2021-04-28T02:31:06.937121Z",
     "start_time": "2021-04-28T02:31:06.650369Z"
    }
   },
   "outputs": [
    {
     "data": {
      "text/html": [
       "<div>\n",
       "<style scoped>\n",
       "    .dataframe tbody tr th:only-of-type {\n",
       "        vertical-align: middle;\n",
       "    }\n",
       "\n",
       "    .dataframe tbody tr th {\n",
       "        vertical-align: top;\n",
       "    }\n",
       "\n",
       "    .dataframe thead th {\n",
       "        text-align: right;\n",
       "    }\n",
       "</style>\n",
       "<table border=\"1\" class=\"dataframe\">\n",
       "  <thead>\n",
       "    <tr style=\"text-align: right;\">\n",
       "      <th></th>\n",
       "      <th>n</th>\n",
       "      <th>num_people</th>\n",
       "      <th>stop_rate</th>\n",
       "    </tr>\n",
       "  </thead>\n",
       "  <tbody>\n",
       "    <tr>\n",
       "      <th>Asian</th>\n",
       "      <td>97</td>\n",
       "      <td>66066</td>\n",
       "      <td>0.001468</td>\n",
       "    </tr>\n",
       "    <tr>\n",
       "      <th>Black</th>\n",
       "      <td>7491</td>\n",
       "      <td>158080</td>\n",
       "      <td>0.047387</td>\n",
       "    </tr>\n",
       "    <tr>\n",
       "      <th>Hispanic</th>\n",
       "      <td>1728</td>\n",
       "      <td>139493</td>\n",
       "      <td>0.012388</td>\n",
       "    </tr>\n",
       "    <tr>\n",
       "      <th>Other</th>\n",
       "      <td>494</td>\n",
       "      <td>19250</td>\n",
       "      <td>0.025662</td>\n",
       "    </tr>\n",
       "    <tr>\n",
       "      <th>White</th>\n",
       "      <td>2050</td>\n",
       "      <td>300126</td>\n",
       "      <td>0.006830</td>\n",
       "    </tr>\n",
       "  </tbody>\n",
       "</table>\n",
       "</div>"
      ],
      "text/plain": [
       "             n  num_people  stop_rate\n",
       "Asian     97    66066       0.001468 \n",
       "Black     7491  158080      0.047387 \n",
       "Hispanic  1728  139493      0.012388 \n",
       "Other     494   19250       0.025662 \n",
       "White     2050  300126      0.006830 "
      ]
     },
     "metadata": {},
     "output_type": "display_data"
    }
   ],
   "source": [
    "# get stops for year 2014 only\n",
    "stops_2014 = stops[stops.FIO_DATE_CORRECTED.map(lambda x: x.year) == 2014]\n",
    "\n",
    "# get stops per race for year 2014 only\n",
    "race_2014 = pd.concat([stops_2014.groupby(stops.RACE_DESC).size(),\n",
    "                boston.T], axis=1, sort=True)\n",
    "race_2014.columns = ['n', 'num_people']\n",
    "\n",
    "# get 2017 stop rate\n",
    "race_2014['stop_rate'] = race_2014.n / race_2014.num_people\n",
    "\n",
    "display(race_2014)"
   ]
  },
  {
   "cell_type": "code",
   "execution_count": 12,
   "metadata": {
    "ExecuteTime": {
     "end_time": "2021-04-28T02:31:06.951221Z",
     "start_time": "2021-04-28T02:31:06.940947Z"
    }
   },
   "outputs": [
    {
     "data": {
      "text/plain": [
       "6.937653877011949"
      ]
     },
     "metadata": {},
     "output_type": "display_data"
    },
    {
     "data": {
      "text/plain": [
       "1.8135982275883065"
      ]
     },
     "metadata": {},
     "output_type": "display_data"
    }
   ],
   "source": [
    "# black and white stop rates\n",
    "display(race_2014.stop_rate['Black'] / race_2014.stop_rate['White'])\n",
    "\n",
    "# black and hispanic stop rates\n",
    "display(race_2014.stop_rate['Hispanic'] / race_2014.stop_rate['White'])"
   ]
  },
  {
   "cell_type": "code",
   "execution_count": 13,
   "metadata": {
    "ExecuteTime": {
     "end_time": "2021-04-28T02:31:06.970451Z",
     "start_time": "2021-04-28T02:31:06.954319Z"
    }
   },
   "outputs": [
    {
     "name": "stderr",
     "output_type": "stream",
     "text": [
      "/Users/elliotmacy/opt/anaconda3/envs/learn-env/lib/python3.6/site-packages/pandas/core/generic.py:6287: SettingWithCopyWarning: \n",
      "A value is trying to be set on a copy of a slice from a DataFrame\n",
      "\n",
      "See the caveats in the documentation: http://pandas.pydata.org/pandas-docs/stable/user_guide/indexing.html#returning-a-view-versus-a-copy\n",
      "  self._update_inplace(new_data)\n"
     ]
    },
    {
     "data": {
      "text/plain": [
       "N     9387\n",
       "VP    1234\n",
       "V     739 \n",
       "P     500 \n",
       "Name: SEARCH, dtype: int64"
      ]
     },
     "metadata": {},
     "output_type": "display_data"
    }
   ],
   "source": [
    "# fill search nan values with 'N' for 'no search'\n",
    "stops_2014.SEARCH.fillna('N', inplace=True)\n",
    "\n",
    "# check search values\n",
    "display(stops_2014.SEARCH.value_counts())"
   ]
  },
  {
   "cell_type": "code",
   "execution_count": 14,
   "metadata": {
    "ExecuteTime": {
     "end_time": "2021-04-28T02:31:07.014867Z",
     "start_time": "2021-04-28T02:31:06.973746Z"
    }
   },
   "outputs": [
    {
     "name": "stderr",
     "output_type": "stream",
     "text": [
      "/Users/elliotmacy/opt/anaconda3/envs/learn-env/lib/python3.6/site-packages/pandas/core/generic.py:5208: SettingWithCopyWarning: \n",
      "A value is trying to be set on a copy of a slice from a DataFrame.\n",
      "Try using .loc[row_indexer,col_indexer] = value instead\n",
      "\n",
      "See the caveats in the documentation: http://pandas.pydata.org/pandas-docs/stable/user_guide/indexing.html#returning-a-view-versus-a-copy\n",
      "  self[name] = value\n"
     ]
    },
    {
     "data": {
      "text/plain": [
       "0    9387\n",
       "1    2473\n",
       "Name: SEARCH, dtype: int64"
      ]
     },
     "metadata": {},
     "output_type": "display_data"
    }
   ],
   "source": [
    "stops_2014.SEARCH = np.where(stops_2014.SEARCH!='N', 1, 0)\n",
    "display(stops_2014.SEARCH.value_counts())"
   ]
  },
  {
   "cell_type": "code",
   "execution_count": 15,
   "metadata": {
    "ExecuteTime": {
     "end_time": "2021-04-28T02:31:07.083947Z",
     "start_time": "2021-04-28T02:31:07.045893Z"
    }
   },
   "outputs": [
    {
     "data": {
      "text/plain": [
       "RACE_DESC\n",
       "Asian       0.144330\n",
       "Black       0.223068\n",
       "Hispanic    0.210069\n",
       "Other       0.208502\n",
       "White       0.157073\n",
       "Name: SEARCH, dtype: float64"
      ]
     },
     "metadata": {},
     "output_type": "display_data"
    }
   ],
   "source": [
    "# get search rates per race\n",
    "search = stops_2014.groupby('RACE_DESC').SEARCH.mean()\n",
    "\n",
    "display(search)"
   ]
  },
  {
   "cell_type": "code",
   "execution_count": 16,
   "metadata": {
    "ExecuteTime": {
     "end_time": "2021-04-28T02:31:07.136130Z",
     "start_time": "2021-04-28T02:31:07.096568Z"
    }
   },
   "outputs": [
    {
     "data": {
      "text/plain": [
       "1.4201513866329036"
      ]
     },
     "metadata": {},
     "output_type": "display_data"
    },
    {
     "data": {
      "text/plain": [
       "1.3373986369910282"
      ]
     },
     "metadata": {},
     "output_type": "display_data"
    }
   ],
   "source": [
    "# black and white search rates\n",
    "display(search['Black'] / search['White'])\n",
    "        \n",
    "# hispanic and white stfriskop rates\n",
    "display(search['Hispanic'] / search['White'])"
   ]
  },
  {
   "cell_type": "markdown",
   "metadata": {},
   "source": [
    "Problems with out benchmark test:\n",
    "\n",
    "1. Our census pop. data doesn't capture what the distribution of driving behavior looks like (Boston residents != Boston drivers)\n",
    "\n",
    "2. Rates of justifiable searches might also vary by race, so we need to check outcomes of searches (hit_rate)"
   ]
  },
  {
   "cell_type": "code",
   "execution_count": 17,
   "metadata": {
    "ExecuteTime": {
     "end_time": "2021-04-28T02:31:07.149513Z",
     "start_time": "2021-04-28T02:31:07.139172Z"
    }
   },
   "outputs": [
    {
     "data": {
      "text/plain": [
       "F      10731\n",
       "FO     442  \n",
       "SF     182  \n",
       "S      143  \n",
       "O      100  \n",
       "SFO    47   \n",
       "SO     4    \n",
       "Name: OUTCOME, dtype: int64"
      ]
     },
     "execution_count": 17,
     "metadata": {},
     "output_type": "execute_result"
    }
   ],
   "source": [
    "stops_2014.OUTCOME.value_counts()"
   ]
  },
  {
   "cell_type": "code",
   "execution_count": 18,
   "metadata": {
    "ExecuteTime": {
     "end_time": "2021-04-28T02:31:07.192645Z",
     "start_time": "2021-04-28T02:31:07.154611Z"
    }
   },
   "outputs": [
    {
     "name": "stderr",
     "output_type": "stream",
     "text": [
      "/Users/elliotmacy/opt/anaconda3/envs/learn-env/lib/python3.6/site-packages/pandas/core/generic.py:5208: SettingWithCopyWarning: \n",
      "A value is trying to be set on a copy of a slice from a DataFrame.\n",
      "Try using .loc[row_indexer,col_indexer] = value instead\n",
      "\n",
      "See the caveats in the documentation: http://pandas.pydata.org/pandas-docs/stable/user_guide/indexing.html#returning-a-view-versus-a-copy\n",
      "  self[name] = value\n"
     ]
    },
    {
     "data": {
      "text/plain": [
       "False    11484\n",
       "True     376  \n",
       "Name: OUTCOME, dtype: int64"
      ]
     },
     "execution_count": 18,
     "metadata": {},
     "output_type": "execute_result"
    }
   ],
   "source": [
    "stops_2014.OUTCOME = np.where((stops_2014.OUTCOME=='SF')\n",
    "                              | (stops_2014.OUTCOME=='S')\n",
    "                              | (stops_2014.OUTCOME=='SFO')\n",
    "                              | (stops_2014.OUTCOME=='SO'), True, False)\n",
    "\n",
    "stops_2014.OUTCOME.value_counts()"
   ]
  },
  {
   "cell_type": "code",
   "execution_count": 19,
   "metadata": {
    "ExecuteTime": {
     "end_time": "2021-04-28T02:31:07.330855Z",
     "start_time": "2021-04-28T02:31:07.197683Z"
    }
   },
   "outputs": [
    {
     "data": {
      "text/plain": [
       "RACE_DESC  OUTCOME\n",
       "Asian      False      94  \n",
       "           True       3   \n",
       "Black      False      7305\n",
       "           True       186 \n",
       "Hispanic   False      1651\n",
       "           True       77  \n",
       "Other      False      482 \n",
       "           True       12  \n",
       "White      False      1952\n",
       "           True       98  \n",
       "dtype: int64"
      ]
     },
     "execution_count": 19,
     "metadata": {},
     "output_type": "execute_result"
    }
   ],
   "source": [
    "stops_2014[stops_2014.isna()==False].groupby(['RACE_DESC', 'OUTCOME']).size()"
   ]
  },
  {
   "cell_type": "code",
   "execution_count": 20,
   "metadata": {
    "ExecuteTime": {
     "end_time": "2021-04-28T02:31:07.375271Z",
     "start_time": "2021-04-28T02:31:07.334113Z"
    }
   },
   "outputs": [
    {
     "data": {
      "text/html": [
       "<div>\n",
       "<style scoped>\n",
       "    .dataframe tbody tr th:only-of-type {\n",
       "        vertical-align: middle;\n",
       "    }\n",
       "\n",
       "    .dataframe tbody tr th {\n",
       "        vertical-align: top;\n",
       "    }\n",
       "\n",
       "    .dataframe thead th {\n",
       "        text-align: right;\n",
       "    }\n",
       "</style>\n",
       "<table border=\"1\" class=\"dataframe\">\n",
       "  <thead>\n",
       "    <tr style=\"text-align: right;\">\n",
       "      <th></th>\n",
       "      <th>OUTCOME</th>\n",
       "    </tr>\n",
       "    <tr>\n",
       "      <th>RACE_DESC</th>\n",
       "      <th></th>\n",
       "    </tr>\n",
       "  </thead>\n",
       "  <tbody>\n",
       "    <tr>\n",
       "      <th>Asian</th>\n",
       "      <td>0.142857</td>\n",
       "    </tr>\n",
       "    <tr>\n",
       "      <th>Black</th>\n",
       "      <td>0.068821</td>\n",
       "    </tr>\n",
       "    <tr>\n",
       "      <th>Hispanic</th>\n",
       "      <td>0.134986</td>\n",
       "    </tr>\n",
       "    <tr>\n",
       "      <th>Other</th>\n",
       "      <td>0.067961</td>\n",
       "    </tr>\n",
       "    <tr>\n",
       "      <th>White</th>\n",
       "      <td>0.130435</td>\n",
       "    </tr>\n",
       "  </tbody>\n",
       "</table>\n",
       "</div>"
      ],
      "text/plain": [
       "            OUTCOME\n",
       "RACE_DESC          \n",
       "Asian      0.142857\n",
       "Black      0.068821\n",
       "Hispanic   0.134986\n",
       "Other      0.067961\n",
       "White      0.130435"
      ]
     },
     "metadata": {},
     "output_type": "display_data"
    }
   ],
   "source": [
    "searches_2014 = stops_2014[stops_2014.SEARCH==True]\n",
    "dff = pd.DataFrame(searches_2014.groupby('RACE_DESC').OUTCOME.mean()).rename(columns={'contraband_found':'hit_rate'})\n",
    "display(dff)"
   ]
  },
  {
   "cell_type": "markdown",
   "metadata": {},
   "source": [
    "Are officers searching non-white drivers based on less evidence? Do hit rates vary by precint?"
   ]
  },
  {
   "cell_type": "code",
   "execution_count": 21,
   "metadata": {
    "ExecuteTime": {
     "end_time": "2021-04-28T02:31:07.423127Z",
     "start_time": "2021-04-28T02:31:07.385385Z"
    }
   },
   "outputs": [
    {
     "data": {
      "text/html": [
       "<div>\n",
       "<style scoped>\n",
       "    .dataframe tbody tr th:only-of-type {\n",
       "        vertical-align: middle;\n",
       "    }\n",
       "\n",
       "    .dataframe tbody tr th {\n",
       "        vertical-align: top;\n",
       "    }\n",
       "\n",
       "    .dataframe thead th {\n",
       "        text-align: right;\n",
       "    }\n",
       "</style>\n",
       "<table border=\"1\" class=\"dataframe\">\n",
       "  <thead>\n",
       "    <tr style=\"text-align: right;\">\n",
       "      <th></th>\n",
       "      <th></th>\n",
       "      <th>OUTCOME</th>\n",
       "    </tr>\n",
       "    <tr>\n",
       "      <th>RACE_DESC</th>\n",
       "      <th>DIST</th>\n",
       "      <th></th>\n",
       "    </tr>\n",
       "  </thead>\n",
       "  <tbody>\n",
       "    <tr>\n",
       "      <th rowspan=\"4\" valign=\"top\">Asian</th>\n",
       "      <th>B3</th>\n",
       "      <td>0.500000</td>\n",
       "    </tr>\n",
       "    <tr>\n",
       "      <th>C11</th>\n",
       "      <td>0.000000</td>\n",
       "    </tr>\n",
       "    <tr>\n",
       "      <th>D4</th>\n",
       "      <td>0.333333</td>\n",
       "    </tr>\n",
       "    <tr>\n",
       "      <th>E5</th>\n",
       "      <td>0.000000</td>\n",
       "    </tr>\n",
       "    <tr>\n",
       "      <th rowspan=\"18\" valign=\"top\">Black</th>\n",
       "      <th>A1</th>\n",
       "      <td>0.250000</td>\n",
       "    </tr>\n",
       "    <tr>\n",
       "      <th>A15</th>\n",
       "      <td>0.000000</td>\n",
       "    </tr>\n",
       "    <tr>\n",
       "      <th>A7</th>\n",
       "      <td>0.000000</td>\n",
       "    </tr>\n",
       "    <tr>\n",
       "      <th>Auto</th>\n",
       "      <td>0.000000</td>\n",
       "    </tr>\n",
       "    <tr>\n",
       "      <th>B2</th>\n",
       "      <td>0.069030</td>\n",
       "    </tr>\n",
       "    <tr>\n",
       "      <th>B3</th>\n",
       "      <td>0.016447</td>\n",
       "    </tr>\n",
       "    <tr>\n",
       "      <th>BIKE</th>\n",
       "      <td>0.000000</td>\n",
       "    </tr>\n",
       "    <tr>\n",
       "      <th>BMP</th>\n",
       "      <td>0.000000</td>\n",
       "    </tr>\n",
       "    <tr>\n",
       "      <th>C11</th>\n",
       "      <td>0.080851</td>\n",
       "    </tr>\n",
       "    <tr>\n",
       "      <th>C6</th>\n",
       "      <td>0.266667</td>\n",
       "    </tr>\n",
       "    <tr>\n",
       "      <th>D14</th>\n",
       "      <td>0.666667</td>\n",
       "    </tr>\n",
       "    <tr>\n",
       "      <th>D4</th>\n",
       "      <td>0.191489</td>\n",
       "    </tr>\n",
       "    <tr>\n",
       "      <th>DCU</th>\n",
       "      <td>0.750000</td>\n",
       "    </tr>\n",
       "    <tr>\n",
       "      <th>E13</th>\n",
       "      <td>0.055556</td>\n",
       "    </tr>\n",
       "    <tr>\n",
       "      <th>E18</th>\n",
       "      <td>0.173913</td>\n",
       "    </tr>\n",
       "    <tr>\n",
       "      <th>E5</th>\n",
       "      <td>0.000000</td>\n",
       "    </tr>\n",
       "    <tr>\n",
       "      <th>OTHER</th>\n",
       "      <td>0.000000</td>\n",
       "    </tr>\n",
       "    <tr>\n",
       "      <th>YVSF</th>\n",
       "      <td>0.000000</td>\n",
       "    </tr>\n",
       "    <tr>\n",
       "      <th rowspan=\"13\" valign=\"top\">Hispanic</th>\n",
       "      <th>A1</th>\n",
       "      <td>0.000000</td>\n",
       "    </tr>\n",
       "    <tr>\n",
       "      <th>A15</th>\n",
       "      <td>0.000000</td>\n",
       "    </tr>\n",
       "    <tr>\n",
       "      <th>A7</th>\n",
       "      <td>0.142857</td>\n",
       "    </tr>\n",
       "    <tr>\n",
       "      <th>B2</th>\n",
       "      <td>0.106383</td>\n",
       "    </tr>\n",
       "    <tr>\n",
       "      <th>B3</th>\n",
       "      <td>0.095890</td>\n",
       "    </tr>\n",
       "    <tr>\n",
       "      <th>C11</th>\n",
       "      <td>0.096774</td>\n",
       "    </tr>\n",
       "    <tr>\n",
       "      <th>C6</th>\n",
       "      <td>0.181818</td>\n",
       "    </tr>\n",
       "    <tr>\n",
       "      <th>D14</th>\n",
       "      <td>1.000000</td>\n",
       "    </tr>\n",
       "    <tr>\n",
       "      <th>D4</th>\n",
       "      <td>0.244444</td>\n",
       "    </tr>\n",
       "    <tr>\n",
       "      <th>DCU</th>\n",
       "      <td>0.333333</td>\n",
       "    </tr>\n",
       "    <tr>\n",
       "      <th>E13</th>\n",
       "      <td>0.033333</td>\n",
       "    </tr>\n",
       "    <tr>\n",
       "      <th>E18</th>\n",
       "      <td>0.285714</td>\n",
       "    </tr>\n",
       "    <tr>\n",
       "      <th>E5</th>\n",
       "      <td>0.190476</td>\n",
       "    </tr>\n",
       "    <tr>\n",
       "      <th rowspan=\"10\" valign=\"top\">Other</th>\n",
       "      <th>A1</th>\n",
       "      <td>0.000000</td>\n",
       "    </tr>\n",
       "    <tr>\n",
       "      <th>A7</th>\n",
       "      <td>0.250000</td>\n",
       "    </tr>\n",
       "    <tr>\n",
       "      <th>B2</th>\n",
       "      <td>0.027778</td>\n",
       "    </tr>\n",
       "    <tr>\n",
       "      <th>B3</th>\n",
       "      <td>0.000000</td>\n",
       "    </tr>\n",
       "    <tr>\n",
       "      <th>C11</th>\n",
       "      <td>0.166667</td>\n",
       "    </tr>\n",
       "    <tr>\n",
       "      <th>D14</th>\n",
       "      <td>0.000000</td>\n",
       "    </tr>\n",
       "    <tr>\n",
       "      <th>D4</th>\n",
       "      <td>0.142857</td>\n",
       "    </tr>\n",
       "    <tr>\n",
       "      <th>DCU</th>\n",
       "      <td>0.000000</td>\n",
       "    </tr>\n",
       "    <tr>\n",
       "      <th>E18</th>\n",
       "      <td>0.333333</td>\n",
       "    </tr>\n",
       "    <tr>\n",
       "      <th>E5</th>\n",
       "      <td>0.000000</td>\n",
       "    </tr>\n",
       "    <tr>\n",
       "      <th rowspan=\"13\" valign=\"top\">White</th>\n",
       "      <th>A1</th>\n",
       "      <td>0.000000</td>\n",
       "    </tr>\n",
       "    <tr>\n",
       "      <th>A15</th>\n",
       "      <td>0.000000</td>\n",
       "    </tr>\n",
       "    <tr>\n",
       "      <th>A7</th>\n",
       "      <td>0.071429</td>\n",
       "    </tr>\n",
       "    <tr>\n",
       "      <th>B2</th>\n",
       "      <td>0.061224</td>\n",
       "    </tr>\n",
       "    <tr>\n",
       "      <th>B3</th>\n",
       "      <td>0.014925</td>\n",
       "    </tr>\n",
       "    <tr>\n",
       "      <th>C11</th>\n",
       "      <td>0.054545</td>\n",
       "    </tr>\n",
       "    <tr>\n",
       "      <th>C6</th>\n",
       "      <td>0.448276</td>\n",
       "    </tr>\n",
       "    <tr>\n",
       "      <th>D14</th>\n",
       "      <td>0.000000</td>\n",
       "    </tr>\n",
       "    <tr>\n",
       "      <th>D4</th>\n",
       "      <td>0.327586</td>\n",
       "    </tr>\n",
       "    <tr>\n",
       "      <th>DCU</th>\n",
       "      <td>0.333333</td>\n",
       "    </tr>\n",
       "    <tr>\n",
       "      <th>E13</th>\n",
       "      <td>0.000000</td>\n",
       "    </tr>\n",
       "    <tr>\n",
       "      <th>E18</th>\n",
       "      <td>0.000000</td>\n",
       "    </tr>\n",
       "    <tr>\n",
       "      <th>E5</th>\n",
       "      <td>0.000000</td>\n",
       "    </tr>\n",
       "  </tbody>\n",
       "</table>\n",
       "</div>"
      ],
      "text/plain": [
       "                  OUTCOME\n",
       "RACE_DESC DIST           \n",
       "Asian     B3     0.500000\n",
       "          C11    0.000000\n",
       "          D4     0.333333\n",
       "          E5     0.000000\n",
       "Black     A1     0.250000\n",
       "          A15    0.000000\n",
       "          A7     0.000000\n",
       "          Auto   0.000000\n",
       "          B2     0.069030\n",
       "          B3     0.016447\n",
       "          BIKE   0.000000\n",
       "          BMP    0.000000\n",
       "          C11    0.080851\n",
       "          C6     0.266667\n",
       "          D14    0.666667\n",
       "          D4     0.191489\n",
       "          DCU    0.750000\n",
       "          E13    0.055556\n",
       "          E18    0.173913\n",
       "          E5     0.000000\n",
       "          OTHER  0.000000\n",
       "          YVSF   0.000000\n",
       "Hispanic  A1     0.000000\n",
       "          A15    0.000000\n",
       "          A7     0.142857\n",
       "          B2     0.106383\n",
       "          B3     0.095890\n",
       "          C11    0.096774\n",
       "          C6     0.181818\n",
       "          D14    1.000000\n",
       "          D4     0.244444\n",
       "          DCU    0.333333\n",
       "          E13    0.033333\n",
       "          E18    0.285714\n",
       "          E5     0.190476\n",
       "Other     A1     0.000000\n",
       "          A7     0.250000\n",
       "          B2     0.027778\n",
       "          B3     0.000000\n",
       "          C11    0.166667\n",
       "          D14    0.000000\n",
       "          D4     0.142857\n",
       "          DCU    0.000000\n",
       "          E18    0.333333\n",
       "          E5     0.000000\n",
       "White     A1     0.000000\n",
       "          A15    0.000000\n",
       "          A7     0.071429\n",
       "          B2     0.061224\n",
       "          B3     0.014925\n",
       "          C11    0.054545\n",
       "          C6     0.448276\n",
       "          D14    0.000000\n",
       "          D4     0.327586\n",
       "          DCU    0.333333\n",
       "          E13    0.000000\n",
       "          E18    0.000000\n",
       "          E5     0.000000"
      ]
     },
     "execution_count": 21,
     "metadata": {},
     "output_type": "execute_result"
    }
   ],
   "source": [
    "# examine hit rate by district\n",
    "pd.DataFrame(searches_2014.groupby([searches_2014.RACE_DESC, searches_2014.DIST]).OUTCOME.mean()).rename(columns={'contraband_found':'hit_rate'})"
   ]
  },
  {
   "cell_type": "code",
   "execution_count": 23,
   "metadata": {
    "ExecuteTime": {
     "end_time": "2021-04-28T02:32:54.038221Z",
     "start_time": "2021-04-28T02:32:54.006834Z"
    }
   },
   "outputs": [
    {
     "data": {
      "text/html": [
       "<div>\n",
       "<style scoped>\n",
       "    .dataframe tbody tr th:only-of-type {\n",
       "        vertical-align: middle;\n",
       "    }\n",
       "\n",
       "    .dataframe tbody tr th {\n",
       "        vertical-align: top;\n",
       "    }\n",
       "\n",
       "    .dataframe thead th {\n",
       "        text-align: right;\n",
       "    }\n",
       "</style>\n",
       "<table border=\"1\" class=\"dataframe\">\n",
       "  <thead>\n",
       "    <tr style=\"text-align: right;\">\n",
       "      <th></th>\n",
       "      <th>white_hit_rate</th>\n",
       "      <th>RACE_DESC</th>\n",
       "      <th>minority_hit_rate</th>\n",
       "    </tr>\n",
       "  </thead>\n",
       "  <tbody>\n",
       "    <tr>\n",
       "      <th>B3</th>\n",
       "      <td>0.071429</td>\n",
       "      <td>Black</td>\n",
       "      <td>0.000000</td>\n",
       "    </tr>\n",
       "    <tr>\n",
       "      <th>B3</th>\n",
       "      <td>0.071429</td>\n",
       "      <td>Hispanic</td>\n",
       "      <td>0.142857</td>\n",
       "    </tr>\n",
       "    <tr>\n",
       "      <th>BIKE</th>\n",
       "      <td>0.333333</td>\n",
       "      <td>Black</td>\n",
       "      <td>0.750000</td>\n",
       "    </tr>\n",
       "    <tr>\n",
       "      <th>BIKE</th>\n",
       "      <td>0.333333</td>\n",
       "      <td>Hispanic</td>\n",
       "      <td>0.333333</td>\n",
       "    </tr>\n",
       "    <tr>\n",
       "      <th>C11</th>\n",
       "      <td>0.061224</td>\n",
       "      <td>Black</td>\n",
       "      <td>0.069030</td>\n",
       "    </tr>\n",
       "    <tr>\n",
       "      <th>C11</th>\n",
       "      <td>0.061224</td>\n",
       "      <td>Hispanic</td>\n",
       "      <td>0.106383</td>\n",
       "    </tr>\n",
       "    <tr>\n",
       "      <th>DCU</th>\n",
       "      <td>0.448276</td>\n",
       "      <td>Black</td>\n",
       "      <td>0.266667</td>\n",
       "    </tr>\n",
       "    <tr>\n",
       "      <th>DCU</th>\n",
       "      <td>0.448276</td>\n",
       "      <td>Hispanic</td>\n",
       "      <td>0.181818</td>\n",
       "    </tr>\n",
       "    <tr>\n",
       "      <th>E13</th>\n",
       "      <td>0.014925</td>\n",
       "      <td>Black</td>\n",
       "      <td>0.016447</td>\n",
       "    </tr>\n",
       "    <tr>\n",
       "      <th>E13</th>\n",
       "      <td>0.014925</td>\n",
       "      <td>Hispanic</td>\n",
       "      <td>0.095890</td>\n",
       "    </tr>\n",
       "    <tr>\n",
       "      <th>E18</th>\n",
       "      <td>0.054545</td>\n",
       "      <td>Black</td>\n",
       "      <td>0.080851</td>\n",
       "    </tr>\n",
       "    <tr>\n",
       "      <th>E18</th>\n",
       "      <td>0.054545</td>\n",
       "      <td>Hispanic</td>\n",
       "      <td>0.096774</td>\n",
       "    </tr>\n",
       "    <tr>\n",
       "      <th>YVSF</th>\n",
       "      <td>0.327586</td>\n",
       "      <td>Black</td>\n",
       "      <td>0.191489</td>\n",
       "    </tr>\n",
       "    <tr>\n",
       "      <th>YVSF</th>\n",
       "      <td>0.327586</td>\n",
       "      <td>Hispanic</td>\n",
       "      <td>0.244444</td>\n",
       "    </tr>\n",
       "  </tbody>\n",
       "</table>\n",
       "</div>"
      ],
      "text/plain": [
       "      white_hit_rate RACE_DESC  minority_hit_rate\n",
       "B3    0.071429        Black     0.000000         \n",
       "B3    0.071429        Hispanic  0.142857         \n",
       "BIKE  0.333333        Black     0.750000         \n",
       "BIKE  0.333333        Hispanic  0.333333         \n",
       "C11   0.061224        Black     0.069030         \n",
       "C11   0.061224        Hispanic  0.106383         \n",
       "DCU   0.448276        Black     0.266667         \n",
       "DCU   0.448276        Hispanic  0.181818         \n",
       "E13   0.014925        Black     0.016447         \n",
       "E13   0.014925        Hispanic  0.095890         \n",
       "E18   0.054545        Black     0.080851         \n",
       "E18   0.054545        Hispanic  0.096774         \n",
       "YVSF  0.327586        Black     0.191489         \n",
       "YVSF  0.327586        Hispanic  0.244444         "
      ]
     },
     "execution_count": 23,
     "metadata": {},
     "output_type": "execute_result"
    }
   ],
   "source": [
    "# searches_2014 = searches_2014[~searches_2014.DIST.isin(('Auto', 'BIKE', 'BMP', 'YVSF', 'OTHER'))]\n",
    "\n",
    "ddff = pd.DataFrame(searches_2014.groupby([searches_2014.RACE_DESC, searches_2014.DIST]).OUTCOME.mean()).rename(columns={'contraband_found':'hit_rate'}).unstack().T.melt(id_vars='White')\n",
    "ddff = ddff[ddff.RACE_DESC.isin(['Black', 'Hispanic'])]\n",
    "ddff.fillna(0, inplace=True)\n",
    "\n",
    "ddff = ddff.set_index(pd.Index(np.tile(searches_2014.DIST.unique(), 2)))\n",
    "ddff = ddff.rename(columns={'White':'white_hit_rate', 'value':'minority_hit_rate'})\n",
    "ddff = ddff[ddff.white_hit_rate > 0]\n",
    "ddff.sort_index()"
   ]
  },
  {
   "cell_type": "code",
   "execution_count": null,
   "metadata": {
    "ExecuteTime": {
     "end_time": "2021-03-16T03:34:48.509378Z",
     "start_time": "2021-03-16T03:34:47.763225Z"
    },
    "scrolled": true
   },
   "outputs": [],
   "source": [
    "fig, ax = plt.subplots(1,2,figsize=(12,6))\n",
    "sns.scatterplot(x='white_hit_rate',\n",
    "                y='minority_hit_rate',\n",
    "                size=stops_2017.groupby('district').size(),\n",
    "                data=ddff[ddff.subject_race=='Black'],\n",
    "                edgecolor='black',\n",
    "                color=\"white\",\n",
    "                sizes=(1, 400),                ax=ax[0]).set_title('Black')\n",
    "ax[0].plot([-0.05, .85], [-0.05, .85], linewidth=0.5, linestyle='-.', color='k')\n",
    "\n",
    "sns.scatterplot(x='white_hit_rate',\n",
    "                y='minority_hit_rate',\n",
    "                size=stops_2017.groupby('district').size(),\n",
    "                data=ddff[ddff.subject_race=='Hispanic'],\n",
    "                edgecolor='black',\n",
    "                color=\"white\",\n",
    "                sizes=(1, 400),\n",
    "                ax=ax[1]).set_title('Hispanic')\n",
    "ax[1].plot([-0.05, .85], [-0.05, .85], linewidth=0.5, linestyle='-.', color='k')\n",
    "plt.setp(ax, xlim=(-0.05, .85), ylim=(-0.05, .85))\n",
    "ax[0].get_legend().remove()\n",
    "ax[1].get_legend().remove()\n",
    "plt.show()"
   ]
  },
  {
   "cell_type": "code",
   "execution_count": null,
   "metadata": {
    "ExecuteTime": {
     "end_time": "2021-03-16T03:34:48.538059Z",
     "start_time": "2021-03-16T03:34:48.513021Z"
    }
   },
   "outputs": [],
   "source": [
    "stops_2017[stops_2017.district == 77].location.value_counts()"
   ]
  },
  {
   "cell_type": "code",
   "execution_count": null,
   "metadata": {
    "ExecuteTime": {
     "end_time": "2021-03-16T03:34:48.607694Z",
     "start_time": "2021-03-16T03:34:48.541276Z"
    }
   },
   "outputs": [],
   "source": [
    "# compute citywide hit rates again with district 77 removed\n",
    "searches_2017 = stops_2017[(stops_2017.search_conducted==True) & (stops_2017.district!=77)]\n",
    "searches_2017.contraband_found = searches_2017.contraband_found.astype(bool)\n",
    "dff = pd.DataFrame(searches_2017.groupby('subject_race').contraband_found.mean()).rename(columns={'contraband_found':'hit_rate'})\n",
    "display(dff)"
   ]
  },
  {
   "cell_type": "markdown",
   "metadata": {},
   "source": [
    "Veil of Darkness Test"
   ]
  },
  {
   "cell_type": "code",
   "execution_count": null,
   "metadata": {
    "ExecuteTime": {
     "end_time": "2021-03-16T03:37:37.506278Z",
     "start_time": "2021-03-16T03:34:48.616596Z"
    }
   },
   "outputs": [],
   "source": [
    "# set city location for sunrise and sunset\n",
    "city = LocationInfo(\"Philadelphia\",\n",
    "                    \"Pennsylvania\",\n",
    "                    \"Eastern Standard Time\", #<--- check which params are req'd\n",
    "                    location.latitude,\n",
    "                    location.longitude)\n",
    "\n",
    "# convert time to datetime.time obj\n",
    "stops_2017['time']    = stops_2017.time.apply(lambda x: pd.to_datetime(x).time())\n",
    "                     \n",
    "# add sunset and dusk\n",
    "stops_2017['Sunset']  = stops_2017.date.apply(lambda x: sun(city.observer, x, tzinfo='EST')[\"sunset\"].time())\n",
    "stops_2017['Dusk']    = stops_2017.date.apply(lambda x: sun(city.observer, x, tzinfo='EST')[\"dusk\"].time())\n",
    "\n",
    "# calculate whether or not stop is after dusk\n",
    "stops_2017['is_dark'] = stops_2017.time > stops_2017.Dusk\n",
    "\n",
    "# drop stops is subject is neither black nor white\n",
    "stops_2017 = stops_2017.loc[(stops_2017.subject_race=='Black') | (stops_2017.subject_race=='White')]\n",
    "\n",
    "# drop stops if stop time is before/after annual sunset.min()/dusk.max()\n",
    "stops_2017 = stops_2017.loc[(stops_2017.time > stops_2017.Sunset.min()) & (stops_2017.time < stops_2017.Dusk.max())]\n",
    "\n",
    "# drop stops if stop is after sunset for that date but before dusk for that date\n",
    "stops_2017 = stops_2017.loc[(stops_2017.time < stops_2017.Sunset) | (stops_2017.time > stops_2017.Dusk)]"
   ]
  },
  {
   "cell_type": "code",
   "execution_count": null,
   "metadata": {
    "ExecuteTime": {
     "end_time": "2021-03-16T03:37:37.601285Z",
     "start_time": "2021-03-16T03:37:37.508997Z"
    }
   },
   "outputs": [],
   "source": [
    "aaa = stops_2017.loc[(stops_2017.time >= pd.to_datetime('17:30:00').time()) & (stops_2017.time < pd.to_datetime('18:00:00').time())]\n",
    "bbb = stops_2017.loc[(stops_2017.time >= pd.to_datetime('18:00:00').time()) & (stops_2017.time < pd.to_datetime('18:30:00').time())]\n",
    "ccc = stops_2017.loc[(stops_2017.time >= pd.to_datetime('18:30:00').time()) & (stops_2017.time < pd.to_datetime('19:00:00').time())]\n",
    "ddd = stops_2017.loc[(stops_2017.time >= pd.to_datetime('19:00:00').time()) & (stops_2017.time < pd.to_datetime('19:30:00').time())]\n",
    "eee = stops_2017.loc[(stops_2017.time >= pd.to_datetime('19:30:00').time()) & (stops_2017.time < pd.to_datetime('20:00:00').time())]\n",
    "fff = stops_2017.loc[(stops_2017.time >= pd.to_datetime('20:00:00').time()) & (stops_2017.time < pd.to_datetime('20:30:00').time())]"
   ]
  },
  {
   "cell_type": "code",
   "execution_count": null,
   "metadata": {
    "ExecuteTime": {
     "end_time": "2021-03-16T03:37:37.623853Z",
     "start_time": "2021-03-16T03:37:37.603998Z"
    }
   },
   "outputs": [],
   "source": [
    "aaa['is_black'] = aaa.subject_race=='Black'\n",
    "bbb['is_black'] = bbb.subject_race=='Black'\n",
    "ccc['is_black'] = ccc.subject_race=='Black'\n",
    "ddd['is_black'] = ddd.subject_race=='Black'\n",
    "eee['is_black'] = eee.subject_race=='Black'\n",
    "fff['is_black'] = fff.subject_race=='Black'"
   ]
  },
  {
   "cell_type": "code",
   "execution_count": null,
   "metadata": {
    "ExecuteTime": {
     "end_time": "2021-03-16T03:37:37.657066Z",
     "start_time": "2021-03-16T03:37:37.627364Z"
    }
   },
   "outputs": [],
   "source": [
    "print(\n",
    "    aaa.groupby('is_dark').is_black.mean(),\n",
    "    bbb.groupby('is_dark').is_black.mean(),\n",
    "    ccc.groupby('is_dark').is_black.mean(),\n",
    "    ddd.groupby('is_dark').is_black.mean(),\n",
    "    eee.groupby('is_dark').is_black.mean()\n",
    ")"
   ]
  },
  {
   "cell_type": "markdown",
   "metadata": {},
   "source": [
    "# o"
   ]
  }
 ],
 "metadata": {
  "kernelspec": {
   "display_name": "Python 3",
   "language": "python",
   "name": "python3"
  },
  "language_info": {
   "codemirror_mode": {
    "name": "ipython",
    "version": 3
   },
   "file_extension": ".py",
   "mimetype": "text/x-python",
   "name": "python",
   "nbconvert_exporter": "python",
   "pygments_lexer": "ipython3",
   "version": "3.6.9"
  },
  "toc": {
   "base_numbering": 1,
   "nav_menu": {},
   "number_sections": true,
   "sideBar": true,
   "skip_h1_title": false,
   "title_cell": "Table of Contents",
   "title_sidebar": "Contents",
   "toc_cell": false,
   "toc_position": {},
   "toc_section_display": true,
   "toc_window_display": false
  },
  "varInspector": {
   "cols": {
    "lenName": 16,
    "lenType": 16,
    "lenVar": 40
   },
   "kernels_config": {
    "python": {
     "delete_cmd_postfix": "",
     "delete_cmd_prefix": "del ",
     "library": "var_list.py",
     "varRefreshCmd": "print(var_dic_list())"
    },
    "r": {
     "delete_cmd_postfix": ") ",
     "delete_cmd_prefix": "rm(",
     "library": "var_list.r",
     "varRefreshCmd": "cat(var_dic_list()) "
    }
   },
   "types_to_exclude": [
    "module",
    "function",
    "builtin_function_or_method",
    "instance",
    "_Feature"
   ],
   "window_display": false
  }
 },
 "nbformat": 4,
 "nbformat_minor": 4
}
