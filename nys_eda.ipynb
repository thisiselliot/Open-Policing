{
 "cells": [
  {
   "cell_type": "code",
   "execution_count": 6,
   "metadata": {
    "ExecuteTime": {
     "end_time": "2021-04-25T02:27:49.346368Z",
     "start_time": "2021-04-25T02:27:43.280057Z"
    }
   },
   "outputs": [],
   "source": [
    "import numpy as np\n",
    "import pandas as pd\n",
    "import seaborn as sns\n",
    "import matplotlib.pyplot as plt"
   ]
  },
  {
   "cell_type": "code",
   "execution_count": 2,
   "metadata": {
    "ExecuteTime": {
     "end_time": "2021-04-25T02:26:06.735756Z",
     "start_time": "2021-04-25T02:25:14.024792Z"
    }
   },
   "outputs": [
    {
     "name": "stderr",
     "output_type": "stream",
     "text": [
      "/Users/elliotmacy/opt/anaconda3/envs/learn-env/lib/python3.6/site-packages/IPython/core/interactiveshell.py:2714: DtypeWarning: Columns (14) have mixed types. Specify dtype option on import or set low_memory=False.\n",
      "  interactivity=interactivity, compiler=compiler, result=result)\n"
     ]
    }
   ],
   "source": [
    "df = pd.read_csv('data/ny_statewide_2020_04_01.csv')"
   ]
  },
  {
   "cell_type": "code",
   "execution_count": 3,
   "metadata": {
    "ExecuteTime": {
     "end_time": "2021-04-25T02:26:24.508010Z",
     "start_time": "2021-04-25T02:26:24.443843Z"
    }
   },
   "outputs": [
    {
     "name": "stdout",
     "output_type": "stream",
     "text": [
      "<class 'pandas.core.frame.DataFrame'>\n",
      "RangeIndex: 7962169 entries, 0 to 7962168\n",
      "Data columns (total 19 columns):\n",
      "raw_row_number                int64\n",
      "date                          object\n",
      "time                          object\n",
      "location                      object\n",
      "county_name                   object\n",
      "subject_age                   float64\n",
      "subject_race                  object\n",
      "subject_sex                   object\n",
      "type                          object\n",
      "violation                     object\n",
      "speed                         float64\n",
      "posted_speed                  float64\n",
      "vehicle_color                 object\n",
      "vehicle_make                  object\n",
      "vehicle_model                 object\n",
      "vehicle_type                  object\n",
      "vehicle_registration_state    object\n",
      "vehicle_year                  float64\n",
      "raw_RACE                      object\n",
      "dtypes: float64(4), int64(1), object(14)\n",
      "memory usage: 1.1+ GB\n"
     ]
    }
   ],
   "source": [
    "df.info()"
   ]
  },
  {
   "cell_type": "code",
   "execution_count": 4,
   "metadata": {
    "ExecuteTime": {
     "end_time": "2021-04-25T02:26:31.776990Z",
     "start_time": "2021-04-25T02:26:31.667892Z"
    }
   },
   "outputs": [
    {
     "data": {
      "text/html": [
       "<div>\n",
       "<style scoped>\n",
       "    .dataframe tbody tr th:only-of-type {\n",
       "        vertical-align: middle;\n",
       "    }\n",
       "\n",
       "    .dataframe tbody tr th {\n",
       "        vertical-align: top;\n",
       "    }\n",
       "\n",
       "    .dataframe thead th {\n",
       "        text-align: right;\n",
       "    }\n",
       "</style>\n",
       "<table border=\"1\" class=\"dataframe\">\n",
       "  <thead>\n",
       "    <tr style=\"text-align: right;\">\n",
       "      <th></th>\n",
       "      <th>raw_row_number</th>\n",
       "      <th>date</th>\n",
       "      <th>time</th>\n",
       "      <th>location</th>\n",
       "      <th>county_name</th>\n",
       "      <th>subject_age</th>\n",
       "      <th>subject_race</th>\n",
       "      <th>subject_sex</th>\n",
       "      <th>type</th>\n",
       "      <th>violation</th>\n",
       "      <th>speed</th>\n",
       "      <th>posted_speed</th>\n",
       "      <th>vehicle_color</th>\n",
       "      <th>vehicle_make</th>\n",
       "      <th>vehicle_model</th>\n",
       "      <th>vehicle_type</th>\n",
       "      <th>vehicle_registration_state</th>\n",
       "      <th>vehicle_year</th>\n",
       "      <th>raw_RACE</th>\n",
       "    </tr>\n",
       "  </thead>\n",
       "  <tbody>\n",
       "    <tr>\n",
       "      <th>0</th>\n",
       "      <td>1</td>\n",
       "      <td>2010-10-05</td>\n",
       "      <td>17:01:00</td>\n",
       "      <td>PALISADES PARKWAY SB|PIPK|9 - PARKWAY</td>\n",
       "      <td>Rockland County</td>\n",
       "      <td>25.0</td>\n",
       "      <td>white</td>\n",
       "      <td>male</td>\n",
       "      <td>vehicular</td>\n",
       "      <td>NO FRONT PLATE DISPLAY</td>\n",
       "      <td>NaN</td>\n",
       "      <td>NaN</td>\n",
       "      <td>gl - gold</td>\n",
       "      <td>chev</td>\n",
       "      <td>NaN</td>\n",
       "      <td>1 - passenger</td>\n",
       "      <td>NY</td>\n",
       "      <td>2000.0</td>\n",
       "      <td>- - WHITE</td>\n",
       "    </tr>\n",
       "    <tr>\n",
       "      <th>1</th>\n",
       "      <td>2</td>\n",
       "      <td>2010-01-19</td>\n",
       "      <td>14:51:00</td>\n",
       "      <td>ST-16|16|2 - STATE</td>\n",
       "      <td>Cattaraugus County</td>\n",
       "      <td>54.0</td>\n",
       "      <td>white</td>\n",
       "      <td>male</td>\n",
       "      <td>vehicular</td>\n",
       "      <td>EXPIRED INSPECTION 12/31/09</td>\n",
       "      <td>NaN</td>\n",
       "      <td>NaN</td>\n",
       "      <td>wh - white</td>\n",
       "      <td>intl</td>\n",
       "      <td>NaN</td>\n",
       "      <td>6 - truck/tractor</td>\n",
       "      <td>NY</td>\n",
       "      <td>2004.0</td>\n",
       "      <td>- - WHITE</td>\n",
       "    </tr>\n",
       "    <tr>\n",
       "      <th>2</th>\n",
       "      <td>3</td>\n",
       "      <td>2010-02-12</td>\n",
       "      <td>10:33:00</td>\n",
       "      <td>TAMARAC ROAD S/B|129|3 - COUNTY</td>\n",
       "      <td>Rensselaer County</td>\n",
       "      <td>21.0</td>\n",
       "      <td>white</td>\n",
       "      <td>male</td>\n",
       "      <td>vehicular</td>\n",
       "      <td>UNINSPECTED MOTOR VEHICLE</td>\n",
       "      <td>NaN</td>\n",
       "      <td>NaN</td>\n",
       "      <td>bl - blue</td>\n",
       "      <td>suba</td>\n",
       "      <td>NaN</td>\n",
       "      <td>1 - passenger</td>\n",
       "      <td>NY</td>\n",
       "      <td>2008.0</td>\n",
       "      <td>- - WHITE</td>\n",
       "    </tr>\n",
       "    <tr>\n",
       "      <th>3</th>\n",
       "      <td>4</td>\n",
       "      <td>2010-04-19</td>\n",
       "      <td>20:36:00</td>\n",
       "      <td>I-87|87|1 - INTERSTATE</td>\n",
       "      <td>Albany County</td>\n",
       "      <td>25.0</td>\n",
       "      <td>white</td>\n",
       "      <td>male</td>\n",
       "      <td>vehicular</td>\n",
       "      <td>UNREGISTERED MOTOR VEHICLE</td>\n",
       "      <td>NaN</td>\n",
       "      <td>NaN</td>\n",
       "      <td>bk - black</td>\n",
       "      <td>toyt</td>\n",
       "      <td>NaN</td>\n",
       "      <td>1 - passenger</td>\n",
       "      <td>NY</td>\n",
       "      <td>2005.0</td>\n",
       "      <td>- - WHITE</td>\n",
       "    </tr>\n",
       "    <tr>\n",
       "      <th>4</th>\n",
       "      <td>5</td>\n",
       "      <td>2010-07-10</td>\n",
       "      <td>13:53:00</td>\n",
       "      <td>WILDER ST / I-490 E|490|1 - INTERSTATE</td>\n",
       "      <td>Monroe County</td>\n",
       "      <td>69.0</td>\n",
       "      <td>black</td>\n",
       "      <td>male</td>\n",
       "      <td>vehicular</td>\n",
       "      <td>UNINSPECTED MOTOR VEHICLE</td>\n",
       "      <td>NaN</td>\n",
       "      <td>NaN</td>\n",
       "      <td>rd - red</td>\n",
       "      <td>niss</td>\n",
       "      <td>NaN</td>\n",
       "      <td>1 - passenger</td>\n",
       "      <td>NY</td>\n",
       "      <td>2008.0</td>\n",
       "      <td>- - BLACK</td>\n",
       "    </tr>\n",
       "  </tbody>\n",
       "</table>\n",
       "</div>"
      ],
      "text/plain": [
       "   raw_row_number        date      time  \\\n",
       "0               1  2010-10-05  17:01:00   \n",
       "1               2  2010-01-19  14:51:00   \n",
       "2               3  2010-02-12  10:33:00   \n",
       "3               4  2010-04-19  20:36:00   \n",
       "4               5  2010-07-10  13:53:00   \n",
       "\n",
       "                                 location         county_name  subject_age  \\\n",
       "0   PALISADES PARKWAY SB|PIPK|9 - PARKWAY     Rockland County         25.0   \n",
       "1                      ST-16|16|2 - STATE  Cattaraugus County         54.0   \n",
       "2         TAMARAC ROAD S/B|129|3 - COUNTY   Rensselaer County         21.0   \n",
       "3                  I-87|87|1 - INTERSTATE       Albany County         25.0   \n",
       "4  WILDER ST / I-490 E|490|1 - INTERSTATE       Monroe County         69.0   \n",
       "\n",
       "  subject_race subject_sex       type                    violation  speed  \\\n",
       "0        white        male  vehicular       NO FRONT PLATE DISPLAY    NaN   \n",
       "1        white        male  vehicular  EXPIRED INSPECTION 12/31/09    NaN   \n",
       "2        white        male  vehicular    UNINSPECTED MOTOR VEHICLE    NaN   \n",
       "3        white        male  vehicular   UNREGISTERED MOTOR VEHICLE    NaN   \n",
       "4        black        male  vehicular    UNINSPECTED MOTOR VEHICLE    NaN   \n",
       "\n",
       "   posted_speed vehicle_color vehicle_make vehicle_model       vehicle_type  \\\n",
       "0           NaN     gl - gold         chev           NaN      1 - passenger   \n",
       "1           NaN    wh - white         intl           NaN  6 - truck/tractor   \n",
       "2           NaN     bl - blue         suba           NaN      1 - passenger   \n",
       "3           NaN    bk - black         toyt           NaN      1 - passenger   \n",
       "4           NaN      rd - red         niss           NaN      1 - passenger   \n",
       "\n",
       "  vehicle_registration_state  vehicle_year   raw_RACE  \n",
       "0                         NY        2000.0  - - WHITE  \n",
       "1                         NY        2004.0  - - WHITE  \n",
       "2                         NY        2008.0  - - WHITE  \n",
       "3                         NY        2005.0  - - WHITE  \n",
       "4                         NY        2008.0  - - BLACK  "
      ]
     },
     "execution_count": 4,
     "metadata": {},
     "output_type": "execute_result"
    }
   ],
   "source": [
    "df.head()"
   ]
  },
  {
   "cell_type": "code",
   "execution_count": 10,
   "metadata": {
    "ExecuteTime": {
     "end_time": "2021-04-25T02:29:19.714037Z",
     "start_time": "2021-04-25T02:29:18.719053Z"
    }
   },
   "outputs": [
    {
     "data": {
      "text/plain": [
       "('2010-01-01', '2017-12-14')"
      ]
     },
     "execution_count": 10,
     "metadata": {},
     "output_type": "execute_result"
    }
   ],
   "source": [
    "df.date.min(), df.date.max()"
   ]
  },
  {
   "cell_type": "code",
   "execution_count": 11,
   "metadata": {
    "ExecuteTime": {
     "end_time": "2021-04-25T02:29:47.542779Z",
     "start_time": "2021-04-25T02:29:46.783907Z"
    }
   },
   "outputs": [
    {
     "data": {
      "text/plain": [
       "Erie County           469716\n",
       "Orange County         462318\n",
       "Westchester County    373992\n",
       "Monroe County         336879\n",
       "Nassau County         312585\n",
       "                       ...  \n",
       "Yates County           14676\n",
       "Kings County           12356\n",
       "Bronx County           10827\n",
       "Richmond County         5014\n",
       "St-17 County               1\n",
       "Name: county_name, Length: 63, dtype: int64"
      ]
     },
     "execution_count": 11,
     "metadata": {},
     "output_type": "execute_result"
    }
   ],
   "source": [
    "df.county_name.value_counts()"
   ]
  },
  {
   "cell_type": "code",
   "execution_count": 13,
   "metadata": {
    "ExecuteTime": {
     "end_time": "2021-04-25T02:30:50.814743Z",
     "start_time": "2021-04-25T02:30:50.130554Z"
    }
   },
   "outputs": [
    {
     "data": {
      "text/plain": [
       "white                     5926237\n",
       "black                      888696\n",
       "hispanic                   553552\n",
       "other                      315590\n",
       "asian/pacific islander     278075\n",
       "Name: subject_race, dtype: int64"
      ]
     },
     "execution_count": 13,
     "metadata": {},
     "output_type": "execute_result"
    }
   ],
   "source": [
    "df.subject_race.value_counts()"
   ]
  },
  {
   "cell_type": "code",
   "execution_count": 15,
   "metadata": {
    "ExecuteTime": {
     "end_time": "2021-04-25T02:31:23.455135Z",
     "start_time": "2021-04-25T02:31:22.578627Z"
    }
   },
   "outputs": [
    {
     "data": {
      "text/plain": [
       "male      5454829\n",
       "female    2505383\n",
       "Name: subject_sex, dtype: int64"
      ]
     },
     "execution_count": 15,
     "metadata": {},
     "output_type": "execute_result"
    }
   ],
   "source": [
    "df.subject_sex.value_counts()"
   ]
  },
  {
   "cell_type": "code",
   "execution_count": 17,
   "metadata": {
    "ExecuteTime": {
     "end_time": "2021-04-25T02:31:44.286938Z",
     "start_time": "2021-04-25T02:31:43.568935Z"
    }
   },
   "outputs": [
    {
     "data": {
      "text/plain": [
       "1 - passenger              6789930\n",
       "p - pick-up truck           503305\n",
       "5 - truck                   225680\n",
       "6 - truck/tractor           161972\n",
       "v - van                     154155\n",
       "3 - motorcycle               56086\n",
       "9 - all others               46090\n",
       "a - all terrain vehicle       9120\n",
       "2 - bus                       5087\n",
       "0 - no vehicle                4233\n",
       "7 - recreation vehicle        3994\n",
       "4 - moped                     1068\n",
       "8 - farm vehicle               848\n",
       "b - bicycle                    563\n",
       "Name: vehicle_type, dtype: int64"
      ]
     },
     "execution_count": 17,
     "metadata": {},
     "output_type": "execute_result"
    }
   ],
   "source": [
    "df.vehicle_type.value_counts()"
   ]
  },
  {
   "cell_type": "code",
   "execution_count": 20,
   "metadata": {
    "ExecuteTime": {
     "end_time": "2021-04-25T02:32:59.038030Z",
     "start_time": "2021-04-25T02:32:57.773276Z"
    }
   },
   "outputs": [
    {
     "data": {
      "text/plain": [
       "SPEED IN ZONE                                        1524591\n",
       "SPEED OVER 55 ZONE                                   1017601\n",
       "NO SEAT BELT                                          381403\n",
       "UNLICENSED OPERATOR                                   312975\n",
       "UNINSPECTED MOTOR VEHICLE                             268084\n",
       "                                                      ...   \n",
       "IMPROPER WIPERS/UNAUTHORIZED STICKER  BACK WINDOW          1\n",
       "UNINSPECTED MOTOR VEHICLE EXP 05/12 RED STCKR              1\n",
       "UNSAT TRAILER TIRE AXL 5 LFT I/S DUAL                      1\n",
       "PASS REAR STOP LAMP OUT                                    1\n",
       "O/S FLAT TIRE AXLE 3 - HAZMAT                              1\n",
       "Name: violation, Length: 340622, dtype: int64"
      ]
     },
     "execution_count": 20,
     "metadata": {},
     "output_type": "execute_result"
    }
   ],
   "source": [
    "df.violation.value_counts()"
   ]
  },
  {
   "cell_type": "code",
   "execution_count": 22,
   "metadata": {
    "ExecuteTime": {
     "end_time": "2021-04-25T02:34:56.051087Z",
     "start_time": "2021-04-25T02:34:48.684924Z"
    }
   },
   "outputs": [
    {
     "data": {
      "text/plain": [
       "gy - grey          1908770\n",
       "bk - black         1374495\n",
       "wh - white          907970\n",
       "bl - blue           830441\n",
       "rd - red            672824\n",
       "gr - green          435451\n",
       "tn - tan            277799\n",
       "gl - gold           105442\n",
       "mr - maroon          87005\n",
       "br- brown            77606\n",
       "or - orange          26207\n",
       "yw - yellow          25086\n",
       "pr - purple          19904\n",
       "mc - multicolor       1346\n",
       "pk - pink              706\n",
       "Name: vehicle_color, dtype: int64"
      ]
     },
     "execution_count": 22,
     "metadata": {},
     "output_type": "execute_result"
    }
   ],
   "source": [
    "df[df.vehicle_type=='1 - passenger'].vehicle_color.value_counts()"
   ]
  },
  {
   "cell_type": "code",
   "execution_count": 23,
   "metadata": {
    "ExecuteTime": {
     "end_time": "2021-04-25T02:35:16.536341Z",
     "start_time": "2021-04-25T02:35:15.703571Z"
    }
   },
   "outputs": [
    {
     "data": {
      "text/plain": [
       "bk - black         98729\n",
       "gy - grey          87384\n",
       "wh - white         86258\n",
       "rd - red           83832\n",
       "bl - blue          67512\n",
       "gr - green         41671\n",
       "tn - tan           12407\n",
       "mr - maroon         8356\n",
       "br- brown           5344\n",
       "gl - gold           2919\n",
       "yw - yellow         2366\n",
       "or - orange         1790\n",
       "pr - purple         1197\n",
       "mc - multicolor      544\n",
       "pk - pink             99\n",
       "Name: vehicle_color, dtype: int64"
      ]
     },
     "execution_count": 23,
     "metadata": {},
     "output_type": "execute_result"
    }
   ],
   "source": [
    "df[df.vehicle_type=='p - pick-up truck'].vehicle_color.value_counts()"
   ]
  }
 ],
 "metadata": {
  "kernelspec": {
   "display_name": "Python 3",
   "language": "python",
   "name": "python3"
  },
  "language_info": {
   "codemirror_mode": {
    "name": "ipython",
    "version": 3
   },
   "file_extension": ".py",
   "mimetype": "text/x-python",
   "name": "python",
   "nbconvert_exporter": "python",
   "pygments_lexer": "ipython3",
   "version": "3.6.9"
  },
  "toc": {
   "base_numbering": 1,
   "nav_menu": {},
   "number_sections": true,
   "sideBar": true,
   "skip_h1_title": false,
   "title_cell": "Table of Contents",
   "title_sidebar": "Contents",
   "toc_cell": false,
   "toc_position": {},
   "toc_section_display": true,
   "toc_window_display": false
  },
  "varInspector": {
   "cols": {
    "lenName": 16,
    "lenType": 16,
    "lenVar": 40
   },
   "kernels_config": {
    "python": {
     "delete_cmd_postfix": "",
     "delete_cmd_prefix": "del ",
     "library": "var_list.py",
     "varRefreshCmd": "print(var_dic_list())"
    },
    "r": {
     "delete_cmd_postfix": ") ",
     "delete_cmd_prefix": "rm(",
     "library": "var_list.r",
     "varRefreshCmd": "cat(var_dic_list()) "
    }
   },
   "types_to_exclude": [
    "module",
    "function",
    "builtin_function_or_method",
    "instance",
    "_Feature"
   ],
   "window_display": false
  }
 },
 "nbformat": 4,
 "nbformat_minor": 4
}
